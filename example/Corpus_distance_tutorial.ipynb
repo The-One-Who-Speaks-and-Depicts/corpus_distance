{
  "nbformat": 4,
  "nbformat_minor": 0,
  "metadata": {
    "colab": {
      "provenance": []
    },
    "kernelspec": {
      "name": "python3",
      "display_name": "Python 3"
    },
    "language_info": {
      "name": "python"
    }
  },
  "cells": [
    {
      "cell_type": "markdown",
      "source": [
        "# Imports"
      ],
      "metadata": {
        "id": "gQw7uz_95F_M"
      }
    },
    {
      "cell_type": "code",
      "source": [
        "!pip install biopython\n",
        "!pip install Levenshtein\n",
        "!pip install gensim\n",
        "!pip install pyjarowinkler"
      ],
      "metadata": {
        "colab": {
          "base_uri": "https://localhost:8080/"
        },
        "id": "Mrm8dMKX5HvD",
        "outputId": "c9cde4cf-34cd-4ce5-d736-b7533b588e79"
      },
      "execution_count": 1,
      "outputs": [
        {
          "output_type": "stream",
          "name": "stdout",
          "text": [
            "Collecting biopython\n",
            "  Downloading biopython-1.83-cp310-cp310-manylinux_2_17_x86_64.manylinux2014_x86_64.whl (3.1 MB)\n",
            "\u001b[2K     \u001b[90m━━━━━━━━━━━━━━━━━━━━━━━━━━━━━━━━━━━━━━━━\u001b[0m \u001b[32m3.1/3.1 MB\u001b[0m \u001b[31m23.1 MB/s\u001b[0m eta \u001b[36m0:00:00\u001b[0m\n",
            "\u001b[?25hRequirement already satisfied: numpy in /usr/local/lib/python3.10/dist-packages (from biopython) (1.25.2)\n",
            "Installing collected packages: biopython\n",
            "Successfully installed biopython-1.83\n",
            "Collecting Levenshtein\n",
            "  Downloading Levenshtein-0.25.1-cp310-cp310-manylinux_2_17_x86_64.manylinux2014_x86_64.whl (177 kB)\n",
            "\u001b[2K     \u001b[90m━━━━━━━━━━━━━━━━━━━━━━━━━━━━━━━━━━━━━━━━\u001b[0m \u001b[32m177.4/177.4 kB\u001b[0m \u001b[31m3.0 MB/s\u001b[0m eta \u001b[36m0:00:00\u001b[0m\n",
            "\u001b[?25hCollecting rapidfuzz<4.0.0,>=3.8.0 (from Levenshtein)\n",
            "  Downloading rapidfuzz-3.9.2-cp310-cp310-manylinux_2_17_x86_64.manylinux2014_x86_64.whl (3.4 MB)\n",
            "\u001b[2K     \u001b[90m━━━━━━━━━━━━━━━━━━━━━━━━━━━━━━━━━━━━━━━━\u001b[0m \u001b[32m3.4/3.4 MB\u001b[0m \u001b[31m34.7 MB/s\u001b[0m eta \u001b[36m0:00:00\u001b[0m\n",
            "\u001b[?25hInstalling collected packages: rapidfuzz, Levenshtein\n",
            "Successfully installed Levenshtein-0.25.1 rapidfuzz-3.9.2\n",
            "Requirement already satisfied: gensim in /usr/local/lib/python3.10/dist-packages (4.3.2)\n",
            "Requirement already satisfied: numpy>=1.18.5 in /usr/local/lib/python3.10/dist-packages (from gensim) (1.25.2)\n",
            "Requirement already satisfied: scipy>=1.7.0 in /usr/local/lib/python3.10/dist-packages (from gensim) (1.11.4)\n",
            "Requirement already satisfied: smart-open>=1.8.1 in /usr/local/lib/python3.10/dist-packages (from gensim) (6.4.0)\n",
            "Collecting pyjarowinkler\n",
            "  Downloading pyjarowinkler-1.8-py2.py3-none-any.whl (5.9 kB)\n",
            "Installing collected packages: pyjarowinkler\n",
            "Successfully installed pyjarowinkler-1.8\n"
          ]
        }
      ]
    },
    {
      "cell_type": "code",
      "source": [
        "!python3 -m pip install --index-url https://test.pypi.org/simple/ --no-deps --force-reinstall corpus_distance"
      ],
      "metadata": {
        "colab": {
          "base_uri": "https://localhost:8080/"
        },
        "id": "7UlLWrMwGB6O",
        "outputId": "344fee9a-4d9c-407b-cdbf-6f91e32ea221"
      },
      "execution_count": 2,
      "outputs": [
        {
          "output_type": "stream",
          "name": "stdout",
          "text": [
            "Looking in indexes: https://test.pypi.org/simple/\n",
            "Collecting corpus_distance\n",
            "  Downloading https://test-files.pythonhosted.org/packages/40/3b/285303c4388e2a631ce690c9a34ce0a4a3e9163e7a3214c05bc942517be9/corpus_distance-0.3-py3-none-any.whl (125 kB)\n",
            "\u001b[2K     \u001b[90m━━━━━━━━━━━━━━━━━━━━━━━━━━━━━━━━━━━━━━━━\u001b[0m \u001b[32m125.0/125.0 kB\u001b[0m \u001b[31m2.0 MB/s\u001b[0m eta \u001b[36m0:00:00\u001b[0m\n",
            "\u001b[?25hInstalling collected packages: corpus_distance\n",
            "Successfully installed corpus_distance-0.3\n"
          ]
        }
      ]
    },
    {
      "cell_type": "code",
      "source": [
        "import corpus_distance"
      ],
      "metadata": {
        "id": "6eN1lVSV5Lcf"
      },
      "execution_count": 3,
      "outputs": []
    },
    {
      "cell_type": "markdown",
      "source": [
        "# Data loading"
      ],
      "metadata": {
        "id": "0i4GXBd75O9R"
      }
    },
    {
      "cell_type": "code",
      "source": [
        "CONTENT_DIR = \"/content/texts\"\n",
        "TOPIC_NORMALISATION = True\n",
        "SPLIT = 1"
      ],
      "metadata": {
        "id": "NP9ihxYOyc4P"
      },
      "execution_count": 4,
      "outputs": []
    },
    {
      "cell_type": "markdown",
      "source": [
        "Texts (or collections of texts) should be pre-tokenised single strings, (optionally) stored in separate files. Filenames should contain lect name before extension, split by '.'. For example, 'Akimov.Belogornoje.txt', where *Akimov* is a text name, *Belogornoje* is a lect name, and *txt* is an extension.\n",
        "\n",
        "Texts become dictionary keys, and lects names - its values."
      ],
      "metadata": {
        "id": "9JojHkocENSt"
      }
    },
    {
      "cell_type": "code",
      "source": [
        "from corpus_distance.data_preprocessing.data_loading import load_data\n",
        "df = load_data(CONTENT_DIR, SPLIT)"
      ],
      "metadata": {
        "id": "tNc9LBlEyg-d"
      },
      "execution_count": 5,
      "outputs": []
    },
    {
      "cell_type": "markdown",
      "source": [
        "The next stage is transformation of dictionary into a dataframe of the following format:\n",
        "\n",
        "| index | text | lect |\n",
        "| -------- | ------- |------- |\n",
        "| 0 | text1 | lect1 |\n",
        "| 1 | text2 | lect1 |\n",
        "| 2 | text1 | lect2 |\n",
        "| ... | ... | ... |\n",
        "| m | textN | lectK |\n",
        "\n",
        "*m* here represents the overall number of texts, *K* - the overall number of lects, and *N* is the number of texts in lect *K*.  "
      ],
      "metadata": {
        "id": "n6fxU4IcFYvV"
      }
    },
    {
      "cell_type": "code",
      "source": [
        "df.head()"
      ],
      "metadata": {
        "id": "XDD3-TwOb83B",
        "outputId": "79458141-8913-4fd1-a0e8-88018e6c080b",
        "colab": {
          "base_uri": "https://localhost:8080/",
          "height": 206
        }
      },
      "execution_count": 6,
      "outputs": [
        {
          "output_type": "execute_result",
          "data": {
            "text/plain": [
              "                                                text      lect\n",
              "0  ﻿ⴕ поклонъ и бласловлѣнье • ѡт ѧкова епискупа ...   Polotsk\n",
              "1  се азъ кнѧзь ѡлександръ и сынъ мои дмитрии с п...  Novgorod\n",
              "2  се язъ князь ярославъ володимѣричь , сгадавъ с...  Novgorod\n",
              "3  кнѧз гердень кланѧтьс всем темь кто видить сѵю...   Polotsk\n",
              "4  ﻿се язъ кнѧзь смоленьскыи федоръ • сѹдилъ есмь...  Smolensk"
            ],
            "text/html": [
              "\n",
              "  <div id=\"df-7ce2f0e8-9461-4582-8bcc-33ba37928319\" class=\"colab-df-container\">\n",
              "    <div>\n",
              "<style scoped>\n",
              "    .dataframe tbody tr th:only-of-type {\n",
              "        vertical-align: middle;\n",
              "    }\n",
              "\n",
              "    .dataframe tbody tr th {\n",
              "        vertical-align: top;\n",
              "    }\n",
              "\n",
              "    .dataframe thead th {\n",
              "        text-align: right;\n",
              "    }\n",
              "</style>\n",
              "<table border=\"1\" class=\"dataframe\">\n",
              "  <thead>\n",
              "    <tr style=\"text-align: right;\">\n",
              "      <th></th>\n",
              "      <th>text</th>\n",
              "      <th>lect</th>\n",
              "    </tr>\n",
              "  </thead>\n",
              "  <tbody>\n",
              "    <tr>\n",
              "      <th>0</th>\n",
              "      <td>﻿ⴕ поклонъ и бласловлѣнье • ѡт ѧкова епискупа ...</td>\n",
              "      <td>Polotsk</td>\n",
              "    </tr>\n",
              "    <tr>\n",
              "      <th>1</th>\n",
              "      <td>се азъ кнѧзь ѡлександръ и сынъ мои дмитрии с п...</td>\n",
              "      <td>Novgorod</td>\n",
              "    </tr>\n",
              "    <tr>\n",
              "      <th>2</th>\n",
              "      <td>се язъ князь ярославъ володимѣричь , сгадавъ с...</td>\n",
              "      <td>Novgorod</td>\n",
              "    </tr>\n",
              "    <tr>\n",
              "      <th>3</th>\n",
              "      <td>кнѧз гердень кланѧтьс всем темь кто видить сѵю...</td>\n",
              "      <td>Polotsk</td>\n",
              "    </tr>\n",
              "    <tr>\n",
              "      <th>4</th>\n",
              "      <td>﻿се язъ кнѧзь смоленьскыи федоръ • сѹдилъ есмь...</td>\n",
              "      <td>Smolensk</td>\n",
              "    </tr>\n",
              "  </tbody>\n",
              "</table>\n",
              "</div>\n",
              "    <div class=\"colab-df-buttons\">\n",
              "\n",
              "  <div class=\"colab-df-container\">\n",
              "    <button class=\"colab-df-convert\" onclick=\"convertToInteractive('df-7ce2f0e8-9461-4582-8bcc-33ba37928319')\"\n",
              "            title=\"Convert this dataframe to an interactive table.\"\n",
              "            style=\"display:none;\">\n",
              "\n",
              "  <svg xmlns=\"http://www.w3.org/2000/svg\" height=\"24px\" viewBox=\"0 -960 960 960\">\n",
              "    <path d=\"M120-120v-720h720v720H120Zm60-500h600v-160H180v160Zm220 220h160v-160H400v160Zm0 220h160v-160H400v160ZM180-400h160v-160H180v160Zm440 0h160v-160H620v160ZM180-180h160v-160H180v160Zm440 0h160v-160H620v160Z\"/>\n",
              "  </svg>\n",
              "    </button>\n",
              "\n",
              "  <style>\n",
              "    .colab-df-container {\n",
              "      display:flex;\n",
              "      gap: 12px;\n",
              "    }\n",
              "\n",
              "    .colab-df-convert {\n",
              "      background-color: #E8F0FE;\n",
              "      border: none;\n",
              "      border-radius: 50%;\n",
              "      cursor: pointer;\n",
              "      display: none;\n",
              "      fill: #1967D2;\n",
              "      height: 32px;\n",
              "      padding: 0 0 0 0;\n",
              "      width: 32px;\n",
              "    }\n",
              "\n",
              "    .colab-df-convert:hover {\n",
              "      background-color: #E2EBFA;\n",
              "      box-shadow: 0px 1px 2px rgba(60, 64, 67, 0.3), 0px 1px 3px 1px rgba(60, 64, 67, 0.15);\n",
              "      fill: #174EA6;\n",
              "    }\n",
              "\n",
              "    .colab-df-buttons div {\n",
              "      margin-bottom: 4px;\n",
              "    }\n",
              "\n",
              "    [theme=dark] .colab-df-convert {\n",
              "      background-color: #3B4455;\n",
              "      fill: #D2E3FC;\n",
              "    }\n",
              "\n",
              "    [theme=dark] .colab-df-convert:hover {\n",
              "      background-color: #434B5C;\n",
              "      box-shadow: 0px 1px 3px 1px rgba(0, 0, 0, 0.15);\n",
              "      filter: drop-shadow(0px 1px 2px rgba(0, 0, 0, 0.3));\n",
              "      fill: #FFFFFF;\n",
              "    }\n",
              "  </style>\n",
              "\n",
              "    <script>\n",
              "      const buttonEl =\n",
              "        document.querySelector('#df-7ce2f0e8-9461-4582-8bcc-33ba37928319 button.colab-df-convert');\n",
              "      buttonEl.style.display =\n",
              "        google.colab.kernel.accessAllowed ? 'block' : 'none';\n",
              "\n",
              "      async function convertToInteractive(key) {\n",
              "        const element = document.querySelector('#df-7ce2f0e8-9461-4582-8bcc-33ba37928319');\n",
              "        const dataTable =\n",
              "          await google.colab.kernel.invokeFunction('convertToInteractive',\n",
              "                                                    [key], {});\n",
              "        if (!dataTable) return;\n",
              "\n",
              "        const docLinkHtml = 'Like what you see? Visit the ' +\n",
              "          '<a target=\"_blank\" href=https://colab.research.google.com/notebooks/data_table.ipynb>data table notebook</a>'\n",
              "          + ' to learn more about interactive tables.';\n",
              "        element.innerHTML = '';\n",
              "        dataTable['output_type'] = 'display_data';\n",
              "        await google.colab.output.renderOutput(dataTable, element);\n",
              "        const docLink = document.createElement('div');\n",
              "        docLink.innerHTML = docLinkHtml;\n",
              "        element.appendChild(docLink);\n",
              "      }\n",
              "    </script>\n",
              "  </div>\n",
              "\n",
              "\n",
              "<div id=\"df-ceeb008c-9910-413b-a088-813f476a42b1\">\n",
              "  <button class=\"colab-df-quickchart\" onclick=\"quickchart('df-ceeb008c-9910-413b-a088-813f476a42b1')\"\n",
              "            title=\"Suggest charts\"\n",
              "            style=\"display:none;\">\n",
              "\n",
              "<svg xmlns=\"http://www.w3.org/2000/svg\" height=\"24px\"viewBox=\"0 0 24 24\"\n",
              "     width=\"24px\">\n",
              "    <g>\n",
              "        <path d=\"M19 3H5c-1.1 0-2 .9-2 2v14c0 1.1.9 2 2 2h14c1.1 0 2-.9 2-2V5c0-1.1-.9-2-2-2zM9 17H7v-7h2v7zm4 0h-2V7h2v10zm4 0h-2v-4h2v4z\"/>\n",
              "    </g>\n",
              "</svg>\n",
              "  </button>\n",
              "\n",
              "<style>\n",
              "  .colab-df-quickchart {\n",
              "      --bg-color: #E8F0FE;\n",
              "      --fill-color: #1967D2;\n",
              "      --hover-bg-color: #E2EBFA;\n",
              "      --hover-fill-color: #174EA6;\n",
              "      --disabled-fill-color: #AAA;\n",
              "      --disabled-bg-color: #DDD;\n",
              "  }\n",
              "\n",
              "  [theme=dark] .colab-df-quickchart {\n",
              "      --bg-color: #3B4455;\n",
              "      --fill-color: #D2E3FC;\n",
              "      --hover-bg-color: #434B5C;\n",
              "      --hover-fill-color: #FFFFFF;\n",
              "      --disabled-bg-color: #3B4455;\n",
              "      --disabled-fill-color: #666;\n",
              "  }\n",
              "\n",
              "  .colab-df-quickchart {\n",
              "    background-color: var(--bg-color);\n",
              "    border: none;\n",
              "    border-radius: 50%;\n",
              "    cursor: pointer;\n",
              "    display: none;\n",
              "    fill: var(--fill-color);\n",
              "    height: 32px;\n",
              "    padding: 0;\n",
              "    width: 32px;\n",
              "  }\n",
              "\n",
              "  .colab-df-quickchart:hover {\n",
              "    background-color: var(--hover-bg-color);\n",
              "    box-shadow: 0 1px 2px rgba(60, 64, 67, 0.3), 0 1px 3px 1px rgba(60, 64, 67, 0.15);\n",
              "    fill: var(--button-hover-fill-color);\n",
              "  }\n",
              "\n",
              "  .colab-df-quickchart-complete:disabled,\n",
              "  .colab-df-quickchart-complete:disabled:hover {\n",
              "    background-color: var(--disabled-bg-color);\n",
              "    fill: var(--disabled-fill-color);\n",
              "    box-shadow: none;\n",
              "  }\n",
              "\n",
              "  .colab-df-spinner {\n",
              "    border: 2px solid var(--fill-color);\n",
              "    border-color: transparent;\n",
              "    border-bottom-color: var(--fill-color);\n",
              "    animation:\n",
              "      spin 1s steps(1) infinite;\n",
              "  }\n",
              "\n",
              "  @keyframes spin {\n",
              "    0% {\n",
              "      border-color: transparent;\n",
              "      border-bottom-color: var(--fill-color);\n",
              "      border-left-color: var(--fill-color);\n",
              "    }\n",
              "    20% {\n",
              "      border-color: transparent;\n",
              "      border-left-color: var(--fill-color);\n",
              "      border-top-color: var(--fill-color);\n",
              "    }\n",
              "    30% {\n",
              "      border-color: transparent;\n",
              "      border-left-color: var(--fill-color);\n",
              "      border-top-color: var(--fill-color);\n",
              "      border-right-color: var(--fill-color);\n",
              "    }\n",
              "    40% {\n",
              "      border-color: transparent;\n",
              "      border-right-color: var(--fill-color);\n",
              "      border-top-color: var(--fill-color);\n",
              "    }\n",
              "    60% {\n",
              "      border-color: transparent;\n",
              "      border-right-color: var(--fill-color);\n",
              "    }\n",
              "    80% {\n",
              "      border-color: transparent;\n",
              "      border-right-color: var(--fill-color);\n",
              "      border-bottom-color: var(--fill-color);\n",
              "    }\n",
              "    90% {\n",
              "      border-color: transparent;\n",
              "      border-bottom-color: var(--fill-color);\n",
              "    }\n",
              "  }\n",
              "</style>\n",
              "\n",
              "  <script>\n",
              "    async function quickchart(key) {\n",
              "      const quickchartButtonEl =\n",
              "        document.querySelector('#' + key + ' button');\n",
              "      quickchartButtonEl.disabled = true;  // To prevent multiple clicks.\n",
              "      quickchartButtonEl.classList.add('colab-df-spinner');\n",
              "      try {\n",
              "        const charts = await google.colab.kernel.invokeFunction(\n",
              "            'suggestCharts', [key], {});\n",
              "      } catch (error) {\n",
              "        console.error('Error during call to suggestCharts:', error);\n",
              "      }\n",
              "      quickchartButtonEl.classList.remove('colab-df-spinner');\n",
              "      quickchartButtonEl.classList.add('colab-df-quickchart-complete');\n",
              "    }\n",
              "    (() => {\n",
              "      let quickchartButtonEl =\n",
              "        document.querySelector('#df-ceeb008c-9910-413b-a088-813f476a42b1 button');\n",
              "      quickchartButtonEl.style.display =\n",
              "        google.colab.kernel.accessAllowed ? 'block' : 'none';\n",
              "    })();\n",
              "  </script>\n",
              "</div>\n",
              "    </div>\n",
              "  </div>\n"
            ],
            "application/vnd.google.colaboratory.intrinsic+json": {
              "type": "dataframe",
              "variable_name": "df",
              "summary": "{\n  \"name\": \"df\",\n  \"rows\": 9,\n  \"fields\": [\n    {\n      \"column\": \"text\",\n      \"properties\": {\n        \"dtype\": \"string\",\n        \"num_unique_values\": 9,\n        \"samples\": [\n          \"\\ufeff\\u0432\\u043e \\u0438\\u043c\\u0467 \\u043e\\u0446\\u0430 i \\u0441\\u043d\\u0430 \\u0438 \\u0441\\u0442\\u043e\\u0433\\u043e \\u0434\\u0445\\u0430 . \\u0441\\u0435 \\u0430\\u0437\\u044a , \\u0440\\u0430\\u0431\\u044a \\u0431\\u0436\\u0438\\u0438 \\u0438\\u0432\\u0430\\u043d\\u044a \\u043d\\u0438\\u043a\\u043e\\u043d\\u043e\\u0432\\u0438\\u0447\\u044c \\u0434\\u0435\\u043c\\u0435\\u043d\\u044c\\u0442\\u0435\\u0465\\u0432\\u044a \\u0441\\u043d\\u044a , \\u0461\\u0442\\u0445\\u043e\\u0434\\u0467 \\u0441\\u0435\\u0433\\u043e \\u0441\\u0432\\u0463\\u0442\\u0430 , \\u0434\\u0430\\u043b\\u044a \\u0465\\u0441\\u044c\\u043c\\u0438 \\u0441\\u0442\\u043e\\u0438 \\u0442\\u0440\\u043e\\u0446\\u0438 \\u0442\\u0440\\u0438 \\u043c\\u0435\\u0441\\u0442\\u0430 \\u0440\\u043e\\u043b\\u0435\\u0438\\u043d\\u0430\\u044f \\u043d\\u0430 \\u0432\\u0435\\u043b\\u0438\\u043a\\u043e\\u043c\\u044a \\u043f\\u043e\\u043b\\u0438 , \\u0434\\u0430 \\u043f\\u043e\\u0436\\u0435\\u043d\\u044c\\u043a\\u0430 , \\u0434\\u0430 \\u043b\\u0443\\u0433\\u044a \\u043d\\u0430 \\u043f\\u043e\\u043b\\u043e\\u0442\\u0435 , \\u0434\\u0430 \\u0461\\u0433\\u043e\\u0440\\u043e\\u0434\\u044a \\u043e\\u0443 \\u0441\\u0442\\u0430\\u0440\\u043e\\u043c\\u044a \\u0433\\u043e\\u0440\\u043e\\u0434\\u0435 , \\u0434\\u0430 \\u043f\\u043e\\u043b\\u044a\\u0433\\u0443\\u043c\\u043d\\u0430 \\u0461\\u0446\\u044e \\u0441\\u0432\\u043e\\u0465\\u043c\\u0443 \\u043d\\u0430\\n\\u043f\\u0430\\u043c\\u0467\\u0442\\u044c \\u0456 \\u0441\\u043e\\u0431\\u0463 \\u0438 \\u0434\\u0438\\u0442\\u0467\\u0442\\u0438 . \\u0430 \\u0445\\u0442\\u043e \\u0438\\u043c\\u0435\\u0442\\u044c \\u0461\\u0442\\u043d\\u0438\\u043c\\u0430\\u0442\\u0438 \\u0461\\u0442 \\u0441\\u0442\\u043e\\u0465 \\u0442\\u0440\\u043e\\u0446\\u0438 \\u2014 \\u0438\\u043b\\u0438 \\u0432\\u0435\\u043b\\u044c\\u043c\\u043e\\u0436\\u0430 , \\u0438\\u043b\\u0438 \\u043f\\u043e\\u043f\\u044a \\u0438\\u043c\\u0435\\u0442\\u044c \\u043f\\u0440\\u043e\\u0434\\u0430\\u0432\\u0430\\u0442\\u0438 , \\u0434\\u0430 \\u0431\\u0443\\u0434\\u0435\\u0442\\u044c \\u043fpo\\u043a\\u043b\\u0467\\u0442\\u044a \\u0432 \\u0441\\u0438\\u0456 \\u0432\\u0435\\u043a\\u044c \\u0438 \\u0432\\u044a \\u0431\\u0443\\u0434\\u0443\\u0449\\u0438\\u0438 .\",\n          \"\\u0441\\u0435 \\u0430\\u0437\\u044a \\u043a\\u043d\\u0467\\u0437\\u044c \\u0461\\u043b\\u0435\\u043a\\u0441\\u0430\\u043d\\u0434\\u0440\\u044a \\u0438 \\u0441\\u044b\\u043d\\u044a \\u043c\\u043e\\u0438 \\u0434\\u043c\\u0438\\u0442\\u0440\\u0438\\u0438 \\u0441 \\u043f\\u043e\\u0441\\u0430\\u0434\\u043d\\u0438\\u043a\\u043e\\u043c\\u044a \\u043c\\u0438\\u0445\\u0430\\u0438\\u043b\\u044a\\u043c\\u044c \\u0438 \\u0441 \\u0442\\u044b\\u0441\\u0467\\u0446\\u044c\\u043a\\u044b\\u043c\\u044c \\u0436\\u0438\\u0440\\u043e\\u0441\\u043b\\u0430\\u0432\\u043e\\u043c\\u044c \\u0438 \\u0441\\u044a \\u0432\\u0441\\u0463\\u043c\\u0438 \\u043d\\u043e\\u0432\\u0433\\u043e\\u0440\\u043e\\u0434\\u0446\\u0438 \\u0434\\u043e\\u043a\\u043e\\u043d\\u0447\\u0430\\u0445\\u043e\\u043c\\u044a \\u043c\\u0438\\u0440\\u044a \\u0441 \\u043f\\u043e\\u0441\\u043b\\u043e\\u043c\\u044c \\u043d\\u0463\\u043c\\u044c\\u0446\\u043a\\u044b\\u043c\\u044c \\u0448\\u0438\\u0432\\u043e\\u0440\\u0434\\u043e\\u043c\\u044c \\u0438 \\u0441\\u044a \\u043b\\u044e\\u0431\\u044c\\u0446\\u043a\\u044b\\u043c\\u044c \\u043f\\u043e\\u0441\\u043b\\u043e\\u043c\\u044c \\u0442\\u0438\\u0434\\u0440\\u0438\\u043a\\u043e\\u043c\\u044c \\u0438 \\u0441 \\u0433\\u044a\\u0446\\u043a\\u044b\\u043c\\u044c \\u043f\\u043e\\u0441\\u043b\\u043e\\u043c\\u044a \\u0461\\u043b\\u044a\\u0441\\u0442\\u0435\\u043d\\u044a\\u043c\\u044a \\u0438 \\u0441\\u044a \\u0432\\u0441\\u0463\\u043c\\u044a \\u043b\\u0430\\u0442\\u0438\\u043d\\u044c\\u0441\\u043a\\u044b\\u043c\\u044c \\u044f\\u0437\\u044b\\u043a\\u043e\\u043c\\u044c . \\u0447\\u0442\\u043e \\u0441\\u0467 \\u0479\\u0447\\u0438\\u043d\\u0438\\u043b\\u043e \\u0442\\u0467\\u0436\\u0435 \\u043c\\u0435\\u0436\\u0438 \\u043d\\u043e\\u0432\\u0433\\u043e\\u0440\\u043e\\u0446\\u0438 \\u0438 \\u043c\\u0435\\u0436\\u044e \\u043d\\u0463\\u043c\\u0446\\u0438 \\u0438 \\u0433\\u0442\\u044b \\u0438 \\u0441\\u043e \\u0432\\u0441\\u0463\\u043c\\u044a \\u043b\\u0430\\u0442\\u0438\\u043d\\u044c\\u0441\\u043a\\u044b\\u043c\\u044c \\u044f\\u0437\\u044b\\u043a\\u044a\\u043c\\u044c . \\u0442\\u043e \\u0432\\u0441\\u0435 \\u0461\\u0442\\u043b\\u043e\\u0436\\u0438\\u0445\\u043e\\u043c\\u044a . \\u0430 \\u043c\\u0438\\u0440\\u044a \\u0434\\u043e\\u043a\\u043e\\u043d\\u0447\\u0430\\u0445\\u044a\\u043c\\u044a \\u043d\\u0430 \\u0441\\u0435\\u0438 \\u043f\\u0440\\u0430\\u0432\\u0434\\u0463 : \\u043d\\u043e\\u0432\\u0433\\u043e\\u0440\\u043e\\u0446\\u043c\\u044a \\u0433\\u043e\\u0441\\u0442\\u0438\\u0442 \\u043d\\u0430 \\u0433\\u043e\\u0446\\u044a\\u043a\\u044b\\u0438 \\u0431\\u0435\\u0440\\u0435\\u0433\\u044a \\u0431\\u0435\\u0441 \\u043f\\u0430\\u043a\\u043e\\u0441\\u0442\\u0438 , \\u0430 \\u043d\\u0463\\u043c\\u0446\\u044c\\u043c\\u044a \\u0438 \\u0433\\u0442\\u044a\\u043c\\u044a \\u0433\\u043e\\u0441\\u0442\\u0438\\u0442\\u0438 \\u0432 \\u043d\\u043e\\u0432\\u044a\\u0433\\u043e\\u0440\\u043e\\u0434\\u044a \\u0431\\u0435\\u0441 \\u043f\\u0430\\u043a\\u043e\\u0441\\u0442\\u0438 \\u0438 \\u0432\\u0441\\u0435\\u043c\\u0443 \\u043b\\u0430\\u0442\\u0438\\u043d\\u044c\\u0441\\u043a\\u043e\\u043c\\u0479 \\u044f\\u0437\\u044b\\u043a\\u0479 \\u043d\\u0430 \\u0441\\u0442\\u0430\\u0440\\u044b\\u0438 \\u043c\\u0438\\u0440\\u044a . \\u043f\\u0479\\u0434\\u044a \\u043e\\u0442\\u043b\\u043e\\u0436\\u0438\\u0445\\u043e\\u043c\\u044a , \\u0430 \\u0441\\u043a\\u0430\\u043b\\u0432\\u0438 \\u043f\\u043e\\u0441\\u0442\\u0430\\u0432\\u0438\\u0445\\u043e\\u043c\\u044a \\u043f\\u043e \\u0441\\u0432\\u043e\\u0465\\u0438 \\u0432\\u043e\\u043b\\u0438 \\u0438 \\u043f\\u043e \\u043b\\u044e\\u0431\\u0432\\u0438 . \\u0430 \\u0432 \\u0440\\u0430\\u0442\\u0448\\u0438\\u043d\\u0479 \\u0442\\u0467\\u0436\\u044e \\u043f\\u043b\\u0430\\u0442\\u0438\\u043b\\u0438 \\u0465\\u0441\\u043c\\u044b ~\\u043a~ \\u0433\\u0440\\u0438\\u0432\\u0435\\u043d\\u044a \\u0441\\u0435\\u0440\\u0435\\u0431\\u0440\\u0430 \\u0437\\u0430 \\u0434\\u0432\\u0463 \\u0433\\u043e\\u043b\\u043e\\u0432\\u0435 . \\u0430 \\u0442\\u0440\\u0435\\u0442\\u044c\\u044e\\u044e \\u0432\\u044b\\u0434\\u0430\\u0445\\u043e\\u043c\\u044a . \\u0430 \\u043d\\u0463\\u043c\\u0446\\u044c\\u043c\\u044a \\u0438 \\u0433\\u0442\\u044a\\u043c\\u044a \\u0438 \\u0432\\u0441\\u0435\\u043c\\u0479 \\u043b\\u0430\\u0442\\u0438\\u043d\\u044c\\u0441\\u043a\\u043e\\u043c\\u0479 \\u044f\\u0437\\u044b\\u043a\\u0479 \\u043f\\u043b\\u0430\\u0442\\u0438\\u0442\\u0438 \\u043f\\u043e \\u0434\\u0432\\u0463 \\u043a\\u0479\\u043d\\u0463 \\u0461\\u0442\\u044a \\u043a\\u0430\\u043f\\u0438 \\u0438 \\u0461\\u0442\\u044a \\u0432\\u0441\\u0467\\u043a\\u043e\\u0433\\u043e \\u0432\\u0463\\u0441\\u043d\\u0430\\u0433\\u043e \\u0442\\u043e\\u0432\\u0430\\u0440\\u0430 \\u0447\\u0442\\u043e \\u043a\\u043b\\u0430\\u0434\\u0479\\u0442\\u044c \\u043d\\u0430 \\u0441\\u043a\\u0430\\u043b\\u0432\\u0438 . \\u0438 \\u043f\\u0440\\u043e\\u0434\\u0430\\u0432\\u0448\\u0435 \\u0438 \\u043a\\u0479\\u043f\\u0438\\u0432\\u0448\\u0435 . \\u0430 \\u0441\\u0442\\u0430\\u0440\\u044b\\u0438 \\u043c\\u0438\\u0440\\u044a \\u0434\\u043e \\u043a\\u043e\\u0442\\u043b\\u0438\\u0433\\u043d\\u0463 . \\u0430 \\u043d\\u043e\\u0432\\u0433\\u043e\\u0440\\u0434\\u0446\\u0438\\u044c\\u043c\\u044a \\u0432\\u044a \\u0441\\u0442\\u0430\\u043d\\u043e\\u0432\\u0438\\u0449\\u0438 \\u043d\\u0430 \\u0433\\u043e\\u0446\\u043a\\u043e\\u043c\\u044a \\u0431\\u0435\\u0440\\u0435\\u0437\\u0463 \\u0431\\u0435\\u0441 \\u043f\\u0430\\u043a\\u043e\\u0441\\u0442\\u0438 \\u0432\\u044a \\u0441\\u0442\\u0430\\u0440\\u044b\\u0438 \\u043c\\u0438\\u0440\\u044a . \\u0430 \\u0437\\u0438\\u043c\\u043d\\u0438\\u0438 \\u0433\\u043e\\u0441\\u0442\\u044c \\u0461\\u0436\\u0435 \\u043d\\u0435 \\u043f\\u043e\\u0438\\u043c\\u0435\\u0442\\u044c \\u043d\\u0430\\u0448\\u0435\\u0433\\u043e \\u043f\\u043e\\u0441\\u043b\\u0430 \\u043d\\u0438 \\u043d\\u043e\\u0432\\u0433\\u043e\\u0440\\u043e\\u0434\\u0446\\u044c\\u0441\\u043a\\u044b\\u0445\\u044a \\u043a\\u0479\\u043f\\u0435\\u0446\\u044c \\u0438\\u0437\\u044a \\u043d\\u043e\\u0432\\u0430\\u0433\\u043e\\u0440\\u043e\\u0434\\u0430 \\u0438\\u043b\\u0438 \\u0441\\u044a \\u0433\\u044a\\u0446\\u044c\\u043a\\u043e\\u0433\\u043e \\u0431\\u0435\\u0440\\u0435\\u0433\\u0430 . \\u0430 \\u0447\\u0442\\u043e \\u0441\\u0467 \\u0479\\u0447\\u0438\\u043d\\u0438\\u0442\\u044c \\u0438\\u0441 \\u043a\\u043e\\u0442\\u043b\\u0438\\u043d\\u0433\\u044a \\u0434\\u043e \\u043d\\u043e\\u0432\\u0430\\u0433\\u043e\\u0440\\u043e\\u0434\\u0430 \\u0438\\u043b\\u0438 \\u0438\\u0437 \\u043d\\u043e\\u0432\\u0430\\u0433\\u043e\\u0440\\u043e\\u0434\\u0430 \\u0434\\u043e \\u043a\\u043e\\u0442\\u043b\\u0438\\u043d\\u0433\\u044a \\u043d\\u0435\\u043c\\u0435\\u0446\\u043a\\u044a\\u043c\\u0479 \\u0433\\u043e\\u0441\\u0442\\u0438 . \\u0461\\u0436\\u0435 \\u0431\\u0435\\u0441 \\u043f\\u043e\\u0441\\u043b\\u0430 \\u043f\\u043e\\u0438\\u0434\\u0479\\u0442\\u044c . \\u0442\\u043e \\u043d\\u043e\\u0432\\u0479\\u0433\\u043e\\u0440\\u043e\\u0434\\u0479 \\u0442\\u0467\\u0436\\u0467 \\u043d\\u0435 \\u043d\\u0430\\u0434\\u043e\\u0431\\u0435 . \\u0432\\u044a \\u0441\\u0442\\u0430\\u0440\\u044b\\u0438 \\u043c\\u0438\\u0440\\u044a , \\u0461\\u0436\\u0435 \\u043a\\u0442\\u043e \\u0433\\u043e\\u0441\\u0442\\u0438\\u0442\\u044c \\u0432 \\u043a\\u043e\\u0440\\u0463\\u043b\\u0479 \\u0438\\u043b\\u0438 \\u043d\\u0463\\u043c\\u0446\\u0438 \\u0438\\u043b\\u0438 \\u0433\\u0442\\u0467\\u043d\\u0435 . \\u0430 \\u0447\\u0442\\u043e \\u0441\\u0467 \\u0479\\u0447\\u0438\\u043d\\u0438\\u0442\\u044a . \\u0430 \\u0442\\u043e \\u043d\\u043e\\u0432\\u0479\\u0433\\u043e\\u0440\\u043e\\u0434\\u0479 \\u0442\\u0467\\u0436\\u0467 \\u043d\\u0435 \\u043d\\u0430\\u0434\\u043e\\u0431\\u0435 . \\u0430 \\u043a\\u043e\\u0442\\u043e\\u0440\\u044b\\u0445\\u044a \\u0442\\u0440\\u0435\\u0465 \\u0434\\u0432\\u043e\\u0440\\u0446\\u044c \\u0432\\u044a\\u043f\\u0440\\u043e\\u0441\\u0438\\u043b\\u0438 \\u0432\\u0430\\u0448\\u0430 \\u0431\\u0440\\u0430\\u0442\\u044c\\u044f \\u043f\\u043e\\u0441\\u043b\\u0438 . \\u0430 \\u0442\\u0463\\u0445\\u044a \\u0441\\u0467 \\u0465\\u0441\\u043c\\u044b \\u0461\\u0442\\u0441\\u0442\\u0479\\u043d\\u0438\\u043b\\u0438 \\u043f\\u043e \\u0441\\u0432\\u043e\\u0465\\u0438 \\u0432\\u043e\\u043b\\u0438 . \\u0430 \\u0441\\u0435 \\u0441\\u0442\\u0430\\u0440\\u0430\\u0467 \\u043d\\u0430\\u0448\\u0430 \\u043f\\u0440\\u0430\\u0432\\u0434\\u0430 \\u0438 \\u0433\\u0440\\u0430\\u043c\\u043e\\u0442\\u0430 . \\u043d\\u0430 \\u0447\\u0435\\u043c\\u044c \\u0446\\u0463\\u043b\\u043e\\u0432\\u0430\\u043b\\u0438 \\u0461\\u0442\\u0446\\u0438 \\u0432\\u0430\\u0448\\u0438 \\u0438 \\u043d\\u0430\\u0448\\u0438 \\u043a\\u0440\\u0435\\u0441\\u0442\\u044a . \\u0430 \\u0433\\u0434\\u0463 \\u0441\\u0467 \\u0442\\u0467\\u0436\\u0467 \\u0440\\u043e\\u0434\\u0438\\u0442\\u044c , \\u0442\\u0479 \\u044e \\u043a\\u043e\\u043d\\u0447\\u0430\\u0442\\u0438 . \\u0430 \\u0438\\u043d\\u043e\\u0465 \\u0433\\u0440\\u0430\\u043c\\u043e\\u0442\\u044b \\u0479 \\u043d\\u0430\\u0441\\u044a \\u0463\\u0442\\u0479\\u0442\\u044c . \\u043d\\u0438 \\u043f\\u043e\\u0442\\u0430\\u0438\\u043b\\u0438 \\u0465\\u0441\\u043c\\u044b . \\u043d\\u0438 \\u0432\\u0463\\u0434\\u0430\\u0465\\u043c\\u044a . \\u043d\\u0430 \\u0442\\u043e\\u043c\\u044c \\u043a\\u0440\\u0435\\u0441\\u0442\\u044a \\u0446\\u0463\\u043b\\u0479\\u0435\\u043c\\u044a .\",\n          \"\\ufeff\\u0441 \\u0430\\u0437\\u044a, \\u0430\\u043d\\u0434\\u0440\\u0463\\u0438 \\u0434\\u0430\\u043d\\u0438\\u043b\\u044c\\u0465\\u0432\\u0438\\u0447\\u044c . \\u0430\\u0436\\u043e \\u043c\\u0438 \\u0441\\u0467 \\u043e\\u0443\\u0447\\u0438\\u043d\\u0438\\u0442\\u044c \\u043d\\u0435 \\u0431\\u044b\\u0442\\u044c \\u043e\\u0443 \\u043f\\u043e\\u043b\\u043e\\u0442\\u0441\\u044c\\u043a\\u0463 , \\u0434\\u0430\\u044e \\u0441\\u0435\\u043b\\u044c\\u0446\\u0435 \\u043d\\u0430 \\u043f\\u0440\\u043e\\u0441\\u043c\\u043e\\u0443\\u0436\\u044c\\u0446\\u0438 , \\u0441\\u0432\\u043e\\u044e \\u043e\\u0447\\u0438\\u043d\\u0443 \\u0438 \\u0434\\u0463\\u0434\\u0438\\u043d\\u043e\\u0443 , \\u0441\\u0442\\u043e\\u0438 \\u0442\\u0440\\u043e\\u0446\\u0438 \\u043e\\u0446\\u044e \\u0441\\u0432\\u043e\\u0465\\u043c\\u0443 i \\u043c\\u0430\\u0442\\u0435\\u0440\\u0438 \\u0438 \\u0441\\u0432\\u043e\\u0465\\u043c\\u0443 \\u043f\\u043b\\u0435\\u043c\\u0435\\u043d\\u0438 \\u043da \\u043f\\u0430\\u043c\\u0467\\u0442\\u044c  \\u0438 \\u0441\\u043e\\u0431\\u0435 \\u043d\\u0430 \\u043f\\u0430\\u043c\\u0467\\u0442\\u044c . \\u0430\\u0436\\u043e o\\u0443\\u0441\\u0442\\u0443\\u043f\\u0438\\u0442\\u044c\\u0441\\u0467 \\u043a\\u043e\\u0442\\u043e\\u0440\\u044b\\u0438 \\u043a\\u043d\\u0467\\u0437\\u044c  \\u0438\\u043b\\u0438 \\u0432\\u0435\\u043b\\u044c\\u043c\\u043e\\u0436\\u0430 , \\u0434\\u0430 \\u0441\\u0443\\u0434\\u0438\\u0442\\u044c \\u0465\\u043c\\u0443 \\u0441\\u0442\\u0430\\u0467 \\u0442\\u0440\\u043e\\u0446\\u0430 \\u043d\\u0430 \\u0441\\u0442\\u0440\\u0430\\u0448\\u044c\\u043d\\u043e\\u043c\\u044a \\u0441\\u0443\\u0434\\u0463 , \\u0434\\u0430 \\u0431\\u0443\\u0434\\u0435\\u0442\\u044c \\u043f\\u0440\\u043e\\u043a\\u043b\\u0467\\u0442\\u044a .\"\n        ],\n        \"semantic_type\": \"\",\n        \"description\": \"\"\n      }\n    },\n    {\n      \"column\": \"lect\",\n      \"properties\": {\n        \"dtype\": \"category\",\n        \"num_unique_values\": 3,\n        \"samples\": [\n          \"Polotsk\",\n          \"Novgorod\",\n          \"Smolensk\"\n        ],\n        \"semantic_type\": \"\",\n        \"description\": \"\"\n      }\n    }\n  ]\n}"
            }
          },
          "metadata": {},
          "execution_count": 6
        }
      ]
    },
    {
      "cell_type": "markdown",
      "source": [
        "# Data processing"
      ],
      "metadata": {
        "id": "i74_OWtr5kfZ"
      }
    },
    {
      "cell_type": "markdown",
      "source": [
        "Here we get lect names."
      ],
      "metadata": {
        "id": "IFU3meo4g5gp"
      }
    },
    {
      "cell_type": "code",
      "source": [
        "from corpus_distance.cdutils import get_lects_from_dataframe"
      ],
      "metadata": {
        "id": "vw3B0c9No0O4"
      },
      "execution_count": 7,
      "outputs": []
    },
    {
      "cell_type": "code",
      "source": [
        "lects = get_lects_from_dataframe(df)"
      ],
      "metadata": {
        "id": "b8AO985coy4x"
      },
      "execution_count": 8,
      "outputs": []
    },
    {
      "cell_type": "code",
      "source": [
        "lects"
      ],
      "metadata": {
        "colab": {
          "base_uri": "https://localhost:8080/"
        },
        "id": "VF4WEmvqqKty",
        "outputId": "be7b20c5-93c2-45f1-8e1a-1648f35043c9"
      },
      "execution_count": 9,
      "outputs": [
        {
          "output_type": "execute_result",
          "data": {
            "text/plain": [
              "['Polotsk', 'Novgorod', 'Smolensk']"
            ]
          },
          "metadata": {},
          "execution_count": 9
        }
      ]
    },
    {
      "cell_type": "markdown",
      "source": [
        "## Topic modelling"
      ],
      "metadata": {
        "id": "7X6mFQ70MgWE"
      }
    },
    {
      "cell_type": "markdown",
      "source": [
        "Topic modelling is used to delete topic words that reflect the features of the texts, and not the language."
      ],
      "metadata": {
        "id": "d3bEPAVTg8RL"
      }
    },
    {
      "cell_type": "code",
      "source": [
        "from corpus_distance.data_preprocessing.topic_modelling import get_topic_words_for_lects, add_thematic_modelling"
      ],
      "metadata": {
        "id": "ju4G0yPYM3WV"
      },
      "execution_count": 10,
      "outputs": []
    },
    {
      "cell_type": "code",
      "source": [
        "topic_words = get_topic_words_for_lects(df, lects)"
      ],
      "metadata": {
        "colab": {
          "base_uri": "https://localhost:8080/"
        },
        "id": "lRVL3sdTorT7",
        "outputId": "f74da9bb-949a-4d80-c754-da2b969a996e"
      },
      "execution_count": 11,
      "outputs": [
        {
          "output_type": "stream",
          "name": "stderr",
          "text": [
            "WARNING:gensim.models.ldamodel:no word id mapping provided; initializing from corpus, assuming identity\n",
            "WARNING:gensim.models.ldamodel:no word id mapping provided; initializing from corpus, assuming identity\n",
            "WARNING:gensim.models.ldamodel:no word id mapping provided; initializing from corpus, assuming identity\n"
          ]
        }
      ]
    },
    {
      "cell_type": "code",
      "source": [
        "df_without_topics = add_thematic_modelling(df, topic_words, TOPIC_NORMALISATION)"
      ],
      "metadata": {
        "id": "bW_36lwauVkc"
      },
      "execution_count": 12,
      "outputs": []
    },
    {
      "cell_type": "code",
      "source": [
        "df_without_topics.head()"
      ],
      "metadata": {
        "colab": {
          "base_uri": "https://localhost:8080/",
          "height": 206
        },
        "id": "FhvqFCrJudRS",
        "outputId": "1e13bf55-5095-40dc-df51-f4299e8d001e"
      },
      "execution_count": 13,
      "outputs": [
        {
          "output_type": "execute_result",
          "data": {
            "text/plain": [
              "                                                text      lect  \\\n",
              "0  ﻿ⴕ поклонъ бласловлѣнье ѧкова епискупа полотьс...   Polotsk   \n",
              "1  се азъ кнѧзь ѡлександръ сынъ мои дмитрии с пос...  Novgorod   \n",
              "2  се язъ князь ярославъ володимѣричь сгадавъ с п...  Novgorod   \n",
              "3  кнѧз гердень кланѧтьс всем темь кто видить сѵю...   Polotsk   \n",
              "4  ﻿се язъ кнѧзь смоленьскыи федоръ сѹдилъ есмь б...  Smolensk   \n",
              "\n",
              "                               text_topic_normalised  \n",
              "0  ﻿ⴕ поклонъ бласловлѣнье ѧкова епискупа полотьс...  \n",
              "1  се азъ кнѧзь ѡлександръ сынъ мои дмитрии с пос...  \n",
              "2  се язъ князь ярославъ володимѣричь сгадавъ с п...  \n",
              "3  кнѧз гердень кланѧтьс всем темь кто видить сѵю...  \n",
              "4  ﻿се язъ кнѧзь смоленьскыи федоръ сѹдилъ есмь б...  "
            ],
            "text/html": [
              "\n",
              "  <div id=\"df-0654602e-93aa-4ab6-a9ea-b600a71a4d21\" class=\"colab-df-container\">\n",
              "    <div>\n",
              "<style scoped>\n",
              "    .dataframe tbody tr th:only-of-type {\n",
              "        vertical-align: middle;\n",
              "    }\n",
              "\n",
              "    .dataframe tbody tr th {\n",
              "        vertical-align: top;\n",
              "    }\n",
              "\n",
              "    .dataframe thead th {\n",
              "        text-align: right;\n",
              "    }\n",
              "</style>\n",
              "<table border=\"1\" class=\"dataframe\">\n",
              "  <thead>\n",
              "    <tr style=\"text-align: right;\">\n",
              "      <th></th>\n",
              "      <th>text</th>\n",
              "      <th>lect</th>\n",
              "      <th>text_topic_normalised</th>\n",
              "    </tr>\n",
              "  </thead>\n",
              "  <tbody>\n",
              "    <tr>\n",
              "      <th>0</th>\n",
              "      <td>﻿ⴕ поклонъ бласловлѣнье ѧкова епискупа полотьс...</td>\n",
              "      <td>Polotsk</td>\n",
              "      <td>﻿ⴕ поклонъ бласловлѣнье ѧкова епискупа полотьс...</td>\n",
              "    </tr>\n",
              "    <tr>\n",
              "      <th>1</th>\n",
              "      <td>се азъ кнѧзь ѡлександръ сынъ мои дмитрии с пос...</td>\n",
              "      <td>Novgorod</td>\n",
              "      <td>се азъ кнѧзь ѡлександръ сынъ мои дмитрии с пос...</td>\n",
              "    </tr>\n",
              "    <tr>\n",
              "      <th>2</th>\n",
              "      <td>се язъ князь ярославъ володимѣричь сгадавъ с п...</td>\n",
              "      <td>Novgorod</td>\n",
              "      <td>се язъ князь ярославъ володимѣричь сгадавъ с п...</td>\n",
              "    </tr>\n",
              "    <tr>\n",
              "      <th>3</th>\n",
              "      <td>кнѧз гердень кланѧтьс всем темь кто видить сѵю...</td>\n",
              "      <td>Polotsk</td>\n",
              "      <td>кнѧз гердень кланѧтьс всем темь кто видить сѵю...</td>\n",
              "    </tr>\n",
              "    <tr>\n",
              "      <th>4</th>\n",
              "      <td>﻿се язъ кнѧзь смоленьскыи федоръ сѹдилъ есмь б...</td>\n",
              "      <td>Smolensk</td>\n",
              "      <td>﻿се язъ кнѧзь смоленьскыи федоръ сѹдилъ есмь б...</td>\n",
              "    </tr>\n",
              "  </tbody>\n",
              "</table>\n",
              "</div>\n",
              "    <div class=\"colab-df-buttons\">\n",
              "\n",
              "  <div class=\"colab-df-container\">\n",
              "    <button class=\"colab-df-convert\" onclick=\"convertToInteractive('df-0654602e-93aa-4ab6-a9ea-b600a71a4d21')\"\n",
              "            title=\"Convert this dataframe to an interactive table.\"\n",
              "            style=\"display:none;\">\n",
              "\n",
              "  <svg xmlns=\"http://www.w3.org/2000/svg\" height=\"24px\" viewBox=\"0 -960 960 960\">\n",
              "    <path d=\"M120-120v-720h720v720H120Zm60-500h600v-160H180v160Zm220 220h160v-160H400v160Zm0 220h160v-160H400v160ZM180-400h160v-160H180v160Zm440 0h160v-160H620v160ZM180-180h160v-160H180v160Zm440 0h160v-160H620v160Z\"/>\n",
              "  </svg>\n",
              "    </button>\n",
              "\n",
              "  <style>\n",
              "    .colab-df-container {\n",
              "      display:flex;\n",
              "      gap: 12px;\n",
              "    }\n",
              "\n",
              "    .colab-df-convert {\n",
              "      background-color: #E8F0FE;\n",
              "      border: none;\n",
              "      border-radius: 50%;\n",
              "      cursor: pointer;\n",
              "      display: none;\n",
              "      fill: #1967D2;\n",
              "      height: 32px;\n",
              "      padding: 0 0 0 0;\n",
              "      width: 32px;\n",
              "    }\n",
              "\n",
              "    .colab-df-convert:hover {\n",
              "      background-color: #E2EBFA;\n",
              "      box-shadow: 0px 1px 2px rgba(60, 64, 67, 0.3), 0px 1px 3px 1px rgba(60, 64, 67, 0.15);\n",
              "      fill: #174EA6;\n",
              "    }\n",
              "\n",
              "    .colab-df-buttons div {\n",
              "      margin-bottom: 4px;\n",
              "    }\n",
              "\n",
              "    [theme=dark] .colab-df-convert {\n",
              "      background-color: #3B4455;\n",
              "      fill: #D2E3FC;\n",
              "    }\n",
              "\n",
              "    [theme=dark] .colab-df-convert:hover {\n",
              "      background-color: #434B5C;\n",
              "      box-shadow: 0px 1px 3px 1px rgba(0, 0, 0, 0.15);\n",
              "      filter: drop-shadow(0px 1px 2px rgba(0, 0, 0, 0.3));\n",
              "      fill: #FFFFFF;\n",
              "    }\n",
              "  </style>\n",
              "\n",
              "    <script>\n",
              "      const buttonEl =\n",
              "        document.querySelector('#df-0654602e-93aa-4ab6-a9ea-b600a71a4d21 button.colab-df-convert');\n",
              "      buttonEl.style.display =\n",
              "        google.colab.kernel.accessAllowed ? 'block' : 'none';\n",
              "\n",
              "      async function convertToInteractive(key) {\n",
              "        const element = document.querySelector('#df-0654602e-93aa-4ab6-a9ea-b600a71a4d21');\n",
              "        const dataTable =\n",
              "          await google.colab.kernel.invokeFunction('convertToInteractive',\n",
              "                                                    [key], {});\n",
              "        if (!dataTable) return;\n",
              "\n",
              "        const docLinkHtml = 'Like what you see? Visit the ' +\n",
              "          '<a target=\"_blank\" href=https://colab.research.google.com/notebooks/data_table.ipynb>data table notebook</a>'\n",
              "          + ' to learn more about interactive tables.';\n",
              "        element.innerHTML = '';\n",
              "        dataTable['output_type'] = 'display_data';\n",
              "        await google.colab.output.renderOutput(dataTable, element);\n",
              "        const docLink = document.createElement('div');\n",
              "        docLink.innerHTML = docLinkHtml;\n",
              "        element.appendChild(docLink);\n",
              "      }\n",
              "    </script>\n",
              "  </div>\n",
              "\n",
              "\n",
              "<div id=\"df-c1107164-cb0b-467f-8073-06f7f0bb3a74\">\n",
              "  <button class=\"colab-df-quickchart\" onclick=\"quickchart('df-c1107164-cb0b-467f-8073-06f7f0bb3a74')\"\n",
              "            title=\"Suggest charts\"\n",
              "            style=\"display:none;\">\n",
              "\n",
              "<svg xmlns=\"http://www.w3.org/2000/svg\" height=\"24px\"viewBox=\"0 0 24 24\"\n",
              "     width=\"24px\">\n",
              "    <g>\n",
              "        <path d=\"M19 3H5c-1.1 0-2 .9-2 2v14c0 1.1.9 2 2 2h14c1.1 0 2-.9 2-2V5c0-1.1-.9-2-2-2zM9 17H7v-7h2v7zm4 0h-2V7h2v10zm4 0h-2v-4h2v4z\"/>\n",
              "    </g>\n",
              "</svg>\n",
              "  </button>\n",
              "\n",
              "<style>\n",
              "  .colab-df-quickchart {\n",
              "      --bg-color: #E8F0FE;\n",
              "      --fill-color: #1967D2;\n",
              "      --hover-bg-color: #E2EBFA;\n",
              "      --hover-fill-color: #174EA6;\n",
              "      --disabled-fill-color: #AAA;\n",
              "      --disabled-bg-color: #DDD;\n",
              "  }\n",
              "\n",
              "  [theme=dark] .colab-df-quickchart {\n",
              "      --bg-color: #3B4455;\n",
              "      --fill-color: #D2E3FC;\n",
              "      --hover-bg-color: #434B5C;\n",
              "      --hover-fill-color: #FFFFFF;\n",
              "      --disabled-bg-color: #3B4455;\n",
              "      --disabled-fill-color: #666;\n",
              "  }\n",
              "\n",
              "  .colab-df-quickchart {\n",
              "    background-color: var(--bg-color);\n",
              "    border: none;\n",
              "    border-radius: 50%;\n",
              "    cursor: pointer;\n",
              "    display: none;\n",
              "    fill: var(--fill-color);\n",
              "    height: 32px;\n",
              "    padding: 0;\n",
              "    width: 32px;\n",
              "  }\n",
              "\n",
              "  .colab-df-quickchart:hover {\n",
              "    background-color: var(--hover-bg-color);\n",
              "    box-shadow: 0 1px 2px rgba(60, 64, 67, 0.3), 0 1px 3px 1px rgba(60, 64, 67, 0.15);\n",
              "    fill: var(--button-hover-fill-color);\n",
              "  }\n",
              "\n",
              "  .colab-df-quickchart-complete:disabled,\n",
              "  .colab-df-quickchart-complete:disabled:hover {\n",
              "    background-color: var(--disabled-bg-color);\n",
              "    fill: var(--disabled-fill-color);\n",
              "    box-shadow: none;\n",
              "  }\n",
              "\n",
              "  .colab-df-spinner {\n",
              "    border: 2px solid var(--fill-color);\n",
              "    border-color: transparent;\n",
              "    border-bottom-color: var(--fill-color);\n",
              "    animation:\n",
              "      spin 1s steps(1) infinite;\n",
              "  }\n",
              "\n",
              "  @keyframes spin {\n",
              "    0% {\n",
              "      border-color: transparent;\n",
              "      border-bottom-color: var(--fill-color);\n",
              "      border-left-color: var(--fill-color);\n",
              "    }\n",
              "    20% {\n",
              "      border-color: transparent;\n",
              "      border-left-color: var(--fill-color);\n",
              "      border-top-color: var(--fill-color);\n",
              "    }\n",
              "    30% {\n",
              "      border-color: transparent;\n",
              "      border-left-color: var(--fill-color);\n",
              "      border-top-color: var(--fill-color);\n",
              "      border-right-color: var(--fill-color);\n",
              "    }\n",
              "    40% {\n",
              "      border-color: transparent;\n",
              "      border-right-color: var(--fill-color);\n",
              "      border-top-color: var(--fill-color);\n",
              "    }\n",
              "    60% {\n",
              "      border-color: transparent;\n",
              "      border-right-color: var(--fill-color);\n",
              "    }\n",
              "    80% {\n",
              "      border-color: transparent;\n",
              "      border-right-color: var(--fill-color);\n",
              "      border-bottom-color: var(--fill-color);\n",
              "    }\n",
              "    90% {\n",
              "      border-color: transparent;\n",
              "      border-bottom-color: var(--fill-color);\n",
              "    }\n",
              "  }\n",
              "</style>\n",
              "\n",
              "  <script>\n",
              "    async function quickchart(key) {\n",
              "      const quickchartButtonEl =\n",
              "        document.querySelector('#' + key + ' button');\n",
              "      quickchartButtonEl.disabled = true;  // To prevent multiple clicks.\n",
              "      quickchartButtonEl.classList.add('colab-df-spinner');\n",
              "      try {\n",
              "        const charts = await google.colab.kernel.invokeFunction(\n",
              "            'suggestCharts', [key], {});\n",
              "      } catch (error) {\n",
              "        console.error('Error during call to suggestCharts:', error);\n",
              "      }\n",
              "      quickchartButtonEl.classList.remove('colab-df-spinner');\n",
              "      quickchartButtonEl.classList.add('colab-df-quickchart-complete');\n",
              "    }\n",
              "    (() => {\n",
              "      let quickchartButtonEl =\n",
              "        document.querySelector('#df-c1107164-cb0b-467f-8073-06f7f0bb3a74 button');\n",
              "      quickchartButtonEl.style.display =\n",
              "        google.colab.kernel.accessAllowed ? 'block' : 'none';\n",
              "    })();\n",
              "  </script>\n",
              "</div>\n",
              "    </div>\n",
              "  </div>\n"
            ],
            "application/vnd.google.colaboratory.intrinsic+json": {
              "type": "dataframe",
              "variable_name": "df_without_topics",
              "summary": "{\n  \"name\": \"df_without_topics\",\n  \"rows\": 9,\n  \"fields\": [\n    {\n      \"column\": \"text\",\n      \"properties\": {\n        \"dtype\": \"string\",\n        \"num_unique_values\": 9,\n        \"samples\": [\n          \"\\ufeff\\u0432\\u043e \\u0438\\u043c\\u0467 \\u043e\\u0446\\u0430 i \\u0441\\u043d\\u0430 \\u0441\\u0442\\u043e\\u0433\\u043e \\u0434\\u0445\\u0430 \\u0441\\u0435 \\u0430\\u0437\\u044a \\u0440\\u0430\\u0431\\u044a \\u0431\\u0436\\u0438\\u0438 \\u0438\\u0432\\u0430\\u043d\\u044a \\u043d\\u0438\\u043a\\u043e\\u043d\\u043e\\u0432\\u0438\\u0447\\u044c \\u0434\\u0435\\u043c\\u0435\\u043d\\u044c\\u0442\\u0435\\u0465\\u0432\\u044a \\u0441\\u043d\\u044a \\u0461\\u0442\\u0445\\u043e\\u0434\\u0467 \\u0441\\u0435\\u0433\\u043e \\u0441\\u0432\\u0463\\u0442\\u0430 \\u0434\\u0430\\u043b\\u044a \\u0465\\u0441\\u044c\\u043c\\u0438 \\u0442\\u0440\\u0438 \\u043c\\u0435\\u0441\\u0442\\u0430 \\u0440\\u043e\\u043b\\u0435\\u0438\\u043d\\u0430\\u044f \\u0432\\u0435\\u043b\\u0438\\u043a\\u043e\\u043c\\u044a \\u043f\\u043e\\u043b\\u0438 \\u043f\\u043e\\u0436\\u0435\\u043d\\u044c\\u043a\\u0430 \\u043b\\u0443\\u0433\\u044a \\u043f\\u043e\\u043b\\u043e\\u0442\\u0435 \\u0461\\u0433\\u043e\\u0440\\u043e\\u0434\\u044a \\u043e\\u0443 \\u0441\\u0442\\u0430\\u0440\\u043e\\u043c\\u044a \\u0433\\u043e\\u0440\\u043e\\u0434\\u0435 \\u043f\\u043e\\u043b\\u044a\\u0433\\u0443\\u043c\\u043d\\u0430 \\u0461\\u0446\\u044e \\u043d\\u0430\\n\\u043f\\u0430\\u043c\\u0467\\u0442\\u044c \\u0456 \\u0441\\u043e\\u0431\\u0463 \\u0434\\u0438\\u0442\\u0467\\u0442\\u0438 \\u0445\\u0442\\u043e \\u0438\\u043c\\u0435\\u0442\\u044c \\u0461\\u0442\\u043d\\u0438\\u043c\\u0430\\u0442\\u0438 \\u0441\\u0442\\u043e\\u0465 \\u2014 \\u0438\\u043b\\u0438 \\u0432\\u0435\\u043b\\u044c\\u043c\\u043e\\u0436\\u0430 \\u0438\\u043b\\u0438 \\u043f\\u043e\\u043f\\u044a \\u0438\\u043c\\u0435\\u0442\\u044c \\u043f\\u0440\\u043e\\u0434\\u0430\\u0432\\u0430\\u0442\\u0438 \\u0431\\u0443\\u0434\\u0435\\u0442\\u044c \\u043fpo\\u043a\\u043b\\u0467\\u0442\\u044a \\u0441\\u0438\\u0456 \\u0432\\u0435\\u043a\\u044c \\u0431\\u0443\\u0434\\u0443\\u0449\\u0438\\u0438\",\n          \"\\u0441\\u0435 \\u0430\\u0437\\u044a \\u043a\\u043d\\u0467\\u0437\\u044c \\u0461\\u043b\\u0435\\u043a\\u0441\\u0430\\u043d\\u0434\\u0440\\u044a \\u0441\\u044b\\u043d\\u044a \\u043c\\u043e\\u0438 \\u0434\\u043c\\u0438\\u0442\\u0440\\u0438\\u0438 \\u0441 \\u043f\\u043e\\u0441\\u0430\\u0434\\u043d\\u0438\\u043a\\u043e\\u043c\\u044a \\u043c\\u0438\\u0445\\u0430\\u0438\\u043b\\u044a\\u043c\\u044c \\u0441 \\u0442\\u044b\\u0441\\u0467\\u0446\\u044c\\u043a\\u044b\\u043c\\u044c \\u0436\\u0438\\u0440\\u043e\\u0441\\u043b\\u0430\\u0432\\u043e\\u043c\\u044c \\u0432\\u0441\\u0463\\u043c\\u0438 \\u043d\\u043e\\u0432\\u0433\\u043e\\u0440\\u043e\\u0434\\u0446\\u0438 \\u0434\\u043e\\u043a\\u043e\\u043d\\u0447\\u0430\\u0445\\u043e\\u043c\\u044a \\u043c\\u0438\\u0440\\u044a \\u0441 \\u043f\\u043e\\u0441\\u043b\\u043e\\u043c\\u044c \\u043d\\u0463\\u043c\\u044c\\u0446\\u043a\\u044b\\u043c\\u044c \\u0448\\u0438\\u0432\\u043e\\u0440\\u0434\\u043e\\u043c\\u044c \\u043b\\u044e\\u0431\\u044c\\u0446\\u043a\\u044b\\u043c\\u044c \\u043f\\u043e\\u0441\\u043b\\u043e\\u043c\\u044c \\u0442\\u0438\\u0434\\u0440\\u0438\\u043a\\u043e\\u043c\\u044c \\u0441 \\u0433\\u044a\\u0446\\u043a\\u044b\\u043c\\u044c \\u043f\\u043e\\u0441\\u043b\\u043e\\u043c\\u044a \\u0461\\u043b\\u044a\\u0441\\u0442\\u0435\\u043d\\u044a\\u043c\\u044a \\u0432\\u0441\\u0463\\u043c\\u044a \\u043b\\u0430\\u0442\\u0438\\u043d\\u044c\\u0441\\u043a\\u044b\\u043c\\u044c \\u044f\\u0437\\u044b\\u043a\\u043e\\u043c\\u044c \\u0447\\u0442\\u043e \\u0441\\u0467 \\u0479\\u0447\\u0438\\u043d\\u0438\\u043b\\u043e \\u0442\\u0467\\u0436\\u0435 \\u043c\\u0435\\u0436\\u0438 \\u043d\\u043e\\u0432\\u0433\\u043e\\u0440\\u043e\\u0446\\u0438 \\u043c\\u0435\\u0436\\u044e \\u043d\\u0463\\u043c\\u0446\\u0438 \\u0433\\u0442\\u044b \\u0441\\u043e \\u0432\\u0441\\u0463\\u043c\\u044a \\u043b\\u0430\\u0442\\u0438\\u043d\\u044c\\u0441\\u043a\\u044b\\u043c\\u044c \\u044f\\u0437\\u044b\\u043a\\u044a\\u043c\\u044c \\u0432\\u0441\\u0435 \\u0461\\u0442\\u043b\\u043e\\u0436\\u0438\\u0445\\u043e\\u043c\\u044a \\u043c\\u0438\\u0440\\u044a \\u0434\\u043e\\u043a\\u043e\\u043d\\u0447\\u0430\\u0445\\u044a\\u043c\\u044a \\u0441\\u0435\\u0438 \\u043f\\u0440\\u0430\\u0432\\u0434\\u0463 : \\u043d\\u043e\\u0432\\u0433\\u043e\\u0440\\u043e\\u0446\\u043c\\u044a \\u0433\\u043e\\u0441\\u0442\\u0438\\u0442 \\u0433\\u043e\\u0446\\u044a\\u043a\\u044b\\u0438 \\u0431\\u0435\\u0440\\u0435\\u0433\\u044a \\u0431\\u0435\\u0441 \\u043f\\u0430\\u043a\\u043e\\u0441\\u0442\\u0438 \\u043d\\u0463\\u043c\\u0446\\u044c\\u043c\\u044a \\u0433\\u0442\\u044a\\u043c\\u044a \\u0433\\u043e\\u0441\\u0442\\u0438\\u0442\\u0438 \\u043d\\u043e\\u0432\\u044a\\u0433\\u043e\\u0440\\u043e\\u0434\\u044a \\u0431\\u0435\\u0441 \\u043f\\u0430\\u043a\\u043e\\u0441\\u0442\\u0438 \\u0432\\u0441\\u0435\\u043c\\u0443 \\u043b\\u0430\\u0442\\u0438\\u043d\\u044c\\u0441\\u043a\\u043e\\u043c\\u0479 \\u044f\\u0437\\u044b\\u043a\\u0479 \\u0441\\u0442\\u0430\\u0440\\u044b\\u0438 \\u043c\\u0438\\u0440\\u044a \\u043f\\u0479\\u0434\\u044a \\u043e\\u0442\\u043b\\u043e\\u0436\\u0438\\u0445\\u043e\\u043c\\u044a \\u0441\\u043a\\u0430\\u043b\\u0432\\u0438 \\u043f\\u043e\\u0441\\u0442\\u0430\\u0432\\u0438\\u0445\\u043e\\u043c\\u044a \\u043f\\u043e \\u0441\\u0432\\u043e\\u0465\\u0438 \\u0432\\u043e\\u043b\\u0438 \\u043f\\u043e \\u043b\\u044e\\u0431\\u0432\\u0438 \\u0440\\u0430\\u0442\\u0448\\u0438\\u043d\\u0479 \\u0442\\u0467\\u0436\\u044e \\u043f\\u043b\\u0430\\u0442\\u0438\\u043b\\u0438 \\u0465\\u0441\\u043c\\u044b ~\\u043a~ \\u0433\\u0440\\u0438\\u0432\\u0435\\u043d\\u044a \\u0441\\u0435\\u0440\\u0435\\u0431\\u0440\\u0430 \\u0437\\u0430 \\u0434\\u0432\\u0463 \\u0433\\u043e\\u043b\\u043e\\u0432\\u0435 \\u0442\\u0440\\u0435\\u0442\\u044c\\u044e\\u044e \\u0432\\u044b\\u0434\\u0430\\u0445\\u043e\\u043c\\u044a \\u043d\\u0463\\u043c\\u0446\\u044c\\u043c\\u044a \\u0433\\u0442\\u044a\\u043c\\u044a \\u0432\\u0441\\u0435\\u043c\\u0479 \\u043b\\u0430\\u0442\\u0438\\u043d\\u044c\\u0441\\u043a\\u043e\\u043c\\u0479 \\u044f\\u0437\\u044b\\u043a\\u0479 \\u043f\\u043b\\u0430\\u0442\\u0438\\u0442\\u0438 \\u043f\\u043e \\u0434\\u0432\\u0463 \\u043a\\u0479\\u043d\\u0463 \\u0461\\u0442\\u044a \\u043a\\u0430\\u043f\\u0438 \\u0461\\u0442\\u044a \\u0432\\u0441\\u0467\\u043a\\u043e\\u0433\\u043e \\u0432\\u0463\\u0441\\u043d\\u0430\\u0433\\u043e \\u0442\\u043e\\u0432\\u0430\\u0440\\u0430 \\u0447\\u0442\\u043e \\u043a\\u043b\\u0430\\u0434\\u0479\\u0442\\u044c \\u0441\\u043a\\u0430\\u043b\\u0432\\u0438 \\u043f\\u0440\\u043e\\u0434\\u0430\\u0432\\u0448\\u0435 \\u043a\\u0479\\u043f\\u0438\\u0432\\u0448\\u0435 \\u0441\\u0442\\u0430\\u0440\\u044b\\u0438 \\u043c\\u0438\\u0440\\u044a \\u0434\\u043e \\u043a\\u043e\\u0442\\u043b\\u0438\\u0433\\u043d\\u0463 \\u043d\\u043e\\u0432\\u0433\\u043e\\u0440\\u0434\\u0446\\u0438\\u044c\\u043c\\u044a \\u0432\\u044a \\u0441\\u0442\\u0430\\u043d\\u043e\\u0432\\u0438\\u0449\\u0438 \\u0433\\u043e\\u0446\\u043a\\u043e\\u043c\\u044a \\u0431\\u0435\\u0440\\u0435\\u0437\\u0463 \\u0431\\u0435\\u0441 \\u043f\\u0430\\u043a\\u043e\\u0441\\u0442\\u0438 \\u0432\\u044a \\u0441\\u0442\\u0430\\u0440\\u044b\\u0438 \\u043c\\u0438\\u0440\\u044a \\u0437\\u0438\\u043c\\u043d\\u0438\\u0438 \\u0433\\u043e\\u0441\\u0442\\u044c \\u043d\\u0435 \\u043f\\u043e\\u0438\\u043c\\u0435\\u0442\\u044c \\u043d\\u0430\\u0448\\u0435\\u0433\\u043e \\u043f\\u043e\\u0441\\u043b\\u0430 \\u043d\\u0438 \\u043d\\u043e\\u0432\\u0433\\u043e\\u0440\\u043e\\u0434\\u0446\\u044c\\u0441\\u043a\\u044b\\u0445\\u044a \\u043a\\u0479\\u043f\\u0435\\u0446\\u044c \\u0438\\u0437\\u044a \\u043d\\u043e\\u0432\\u0430\\u0433\\u043e\\u0440\\u043e\\u0434\\u0430 \\u0433\\u044a\\u0446\\u044c\\u043a\\u043e\\u0433\\u043e \\u0431\\u0435\\u0440\\u0435\\u0433\\u0430 \\u0447\\u0442\\u043e \\u0441\\u0467 \\u0479\\u0447\\u0438\\u043d\\u0438\\u0442\\u044c \\u0438\\u0441 \\u043a\\u043e\\u0442\\u043b\\u0438\\u043d\\u0433\\u044a \\u0434\\u043e \\u043d\\u043e\\u0432\\u0430\\u0433\\u043e\\u0440\\u043e\\u0434\\u0430 \\u0438\\u0437 \\u043d\\u043e\\u0432\\u0430\\u0433\\u043e\\u0440\\u043e\\u0434\\u0430 \\u0434\\u043e \\u043a\\u043e\\u0442\\u043b\\u0438\\u043d\\u0433\\u044a \\u043d\\u0435\\u043c\\u0435\\u0446\\u043a\\u044a\\u043c\\u0479 \\u0433\\u043e\\u0441\\u0442\\u0438 \\u0431\\u0435\\u0441 \\u043f\\u043e\\u0441\\u043b\\u0430 \\u043f\\u043e\\u0438\\u0434\\u0479\\u0442\\u044c \\u043d\\u043e\\u0432\\u0479\\u0433\\u043e\\u0440\\u043e\\u0434\\u0479 \\u0442\\u0467\\u0436\\u0467 \\u043d\\u0435 \\u043d\\u0430\\u0434\\u043e\\u0431\\u0435 \\u0432\\u044a \\u0441\\u0442\\u0430\\u0440\\u044b\\u0438 \\u043c\\u0438\\u0440\\u044a \\u043a\\u0442\\u043e \\u0433\\u043e\\u0441\\u0442\\u0438\\u0442\\u044c \\u043a\\u043e\\u0440\\u0463\\u043b\\u0479 \\u043d\\u0463\\u043c\\u0446\\u0438 \\u0433\\u0442\\u0467\\u043d\\u0435 \\u0447\\u0442\\u043e \\u0441\\u0467 \\u0479\\u0447\\u0438\\u043d\\u0438\\u0442\\u044a \\u043d\\u043e\\u0432\\u0479\\u0433\\u043e\\u0440\\u043e\\u0434\\u0479 \\u0442\\u0467\\u0436\\u0467 \\u043d\\u0435 \\u043d\\u0430\\u0434\\u043e\\u0431\\u0435 \\u043a\\u043e\\u0442\\u043e\\u0440\\u044b\\u0445\\u044a \\u0442\\u0440\\u0435\\u0465 \\u0434\\u0432\\u043e\\u0440\\u0446\\u044c \\u0432\\u044a\\u043f\\u0440\\u043e\\u0441\\u0438\\u043b\\u0438 \\u0432\\u0430\\u0448\\u0430 \\u0431\\u0440\\u0430\\u0442\\u044c\\u044f \\u043f\\u043e\\u0441\\u043b\\u0438 \\u0442\\u0463\\u0445\\u044a \\u0441\\u0467 \\u0465\\u0441\\u043c\\u044b \\u0461\\u0442\\u0441\\u0442\\u0479\\u043d\\u0438\\u043b\\u0438 \\u043f\\u043e \\u0441\\u0432\\u043e\\u0465\\u0438 \\u0432\\u043e\\u043b\\u0438 \\u0441\\u0435 \\u0441\\u0442\\u0430\\u0440\\u0430\\u0467 \\u043d\\u0430\\u0448\\u0430 \\u043f\\u0440\\u0430\\u0432\\u0434\\u0430 \\u0433\\u0440\\u0430\\u043c\\u043e\\u0442\\u0430 \\u0447\\u0435\\u043c\\u044c \\u0446\\u0463\\u043b\\u043e\\u0432\\u0430\\u043b\\u0438 \\u0461\\u0442\\u0446\\u0438 \\u0432\\u0430\\u0448\\u0438 \\u043d\\u0430\\u0448\\u0438 \\u043a\\u0440\\u0435\\u0441\\u0442\\u044a \\u0433\\u0434\\u0463 \\u0441\\u0467 \\u0442\\u0467\\u0436\\u0467 \\u0440\\u043e\\u0434\\u0438\\u0442\\u044c \\u0442\\u0479 \\u044e \\u043a\\u043e\\u043d\\u0447\\u0430\\u0442\\u0438 \\u0438\\u043d\\u043e\\u0465 \\u0433\\u0440\\u0430\\u043c\\u043e\\u0442\\u044b \\u0479 \\u043d\\u0430\\u0441\\u044a \\u0463\\u0442\\u0479\\u0442\\u044c \\u043d\\u0438 \\u043f\\u043e\\u0442\\u0430\\u0438\\u043b\\u0438 \\u0465\\u0441\\u043c\\u044b \\u043d\\u0438 \\u0432\\u0463\\u0434\\u0430\\u0465\\u043c\\u044a \\u0442\\u043e\\u043c\\u044c \\u043a\\u0440\\u0435\\u0441\\u0442\\u044a \\u0446\\u0463\\u043b\\u0479\\u0435\\u043c\\u044a\",\n          \"\\u0430\\u0437\\u044a, \\u0430\\u043d\\u0434\\u0440\\u0463\\u0438 \\u0434\\u0430\\u043d\\u0438\\u043b\\u044c\\u0465\\u0432\\u0438\\u0447\\u044c \\u043c\\u0438 \\u0431\\u044b\\u0442\\u044c \\u043e\\u0443 \\u043f\\u043e\\u043b\\u043e\\u0442\\u0441\\u044c\\u043a\\u0463 \\u0434\\u0430\\u044e \\u043f\\u0440\\u043e\\u0441\\u043c\\u043e\\u0443\\u0436\\u044c\\u0446\\u0438 \\u0441\\u0432\\u043e\\u044e \\u043e\\u0447\\u0438\\u043d\\u0443 \\u0434\\u0463\\u0434\\u0438\\u043d\\u043e\\u0443 \\u043e\\u0446\\u044e i \\u043c\\u0430\\u0442\\u0435\\u0440\\u0438 \\u043f\\u043b\\u0435\\u043c\\u0435\\u043d\\u0438 \\u043da o\\u0443\\u0441\\u0442\\u0443\\u043f\\u0438\\u0442\\u044c\\u0441\\u0467 \\u043a\\u043e\\u0442\\u043e\\u0440\\u044b\\u0438 \\u043a\\u043d\\u0467\\u0437\\u044c \\u0438\\u043b\\u0438 \\u0432\\u0435\\u043b\\u044c\\u043c\\u043e\\u0436\\u0430 \\u0441\\u0442\\u0430\\u0467 \\u0431\\u0443\\u0434\\u0435\\u0442\\u044c \\u043f\\u0440\\u043e\\u043a\\u043b\\u0467\\u0442\\u044a\"\n        ],\n        \"semantic_type\": \"\",\n        \"description\": \"\"\n      }\n    },\n    {\n      \"column\": \"lect\",\n      \"properties\": {\n        \"dtype\": \"category\",\n        \"num_unique_values\": 3,\n        \"samples\": [\n          \"Polotsk\",\n          \"Novgorod\",\n          \"Smolensk\"\n        ],\n        \"semantic_type\": \"\",\n        \"description\": \"\"\n      }\n    },\n    {\n      \"column\": \"text_topic_normalised\",\n      \"properties\": {\n        \"dtype\": \"string\",\n        \"num_unique_values\": 9,\n        \"samples\": [\n          \"\\ufeff\\u0432\\u043e \\u0438\\u043c\\u0467 \\u043e\\u0446\\u0430 i \\u0441\\u043d\\u0430 \\u0441\\u0442\\u043e\\u0433\\u043e \\u0434\\u0445\\u0430 \\u0441\\u0435 \\u0430\\u0437\\u044a \\u0440\\u0430\\u0431\\u044a \\u0431\\u0436\\u0438\\u0438 \\u0438\\u0432\\u0430\\u043d\\u044a \\u043d\\u0438\\u043a\\u043e\\u043d\\u043e\\u0432\\u0438\\u0447\\u044c \\u0434\\u0435\\u043c\\u0435\\u043d\\u044c\\u0442\\u0435\\u0465\\u0432\\u044a \\u0441\\u043d\\u044a \\u0461\\u0442\\u0445\\u043e\\u0434\\u0467 \\u0441\\u0435\\u0433\\u043e \\u0441\\u0432\\u0463\\u0442\\u0430 \\u0434\\u0430\\u043b\\u044a \\u0465\\u0441\\u044c\\u043c\\u0438 \\u0442\\u0440\\u0438 \\u043c\\u0435\\u0441\\u0442\\u0430 \\u0440\\u043e\\u043b\\u0435\\u0438\\u043d\\u0430\\u044f \\u0432\\u0435\\u043b\\u0438\\u043a\\u043e\\u043c\\u044a \\u043f\\u043e\\u043b\\u0438 \\u043f\\u043e\\u0436\\u0435\\u043d\\u044c\\u043a\\u0430 \\u043b\\u0443\\u0433\\u044a \\u043f\\u043e\\u043b\\u043e\\u0442\\u0435 \\u0461\\u0433\\u043e\\u0440\\u043e\\u0434\\u044a \\u043e\\u0443 \\u0441\\u0442\\u0430\\u0440\\u043e\\u043c\\u044a \\u0433\\u043e\\u0440\\u043e\\u0434\\u0435 \\u043f\\u043e\\u043b\\u044a\\u0433\\u0443\\u043c\\u043d\\u0430 \\u0461\\u0446\\u044e \\u043d\\u0430\\n\\u043f\\u0430\\u043c\\u0467\\u0442\\u044c \\u0456 \\u0441\\u043e\\u0431\\u0463 \\u0434\\u0438\\u0442\\u0467\\u0442\\u0438 \\u0445\\u0442\\u043e \\u0438\\u043c\\u0435\\u0442\\u044c \\u0461\\u0442\\u043d\\u0438\\u043c\\u0430\\u0442\\u0438 \\u0441\\u0442\\u043e\\u0465 \\u2014 \\u0438\\u043b\\u0438 \\u0432\\u0435\\u043b\\u044c\\u043c\\u043e\\u0436\\u0430 \\u0438\\u043b\\u0438 \\u043f\\u043e\\u043f\\u044a \\u0438\\u043c\\u0435\\u0442\\u044c \\u043f\\u0440\\u043e\\u0434\\u0430\\u0432\\u0430\\u0442\\u0438 \\u0431\\u0443\\u0434\\u0435\\u0442\\u044c \\u043fpo\\u043a\\u043b\\u0467\\u0442\\u044a \\u0441\\u0438\\u0456 \\u0432\\u0435\\u043a\\u044c \\u0431\\u0443\\u0434\\u0443\\u0449\\u0438\\u0438\",\n          \"\\u0441\\u0435 \\u0430\\u0437\\u044a \\u043a\\u043d\\u0467\\u0437\\u044c \\u0461\\u043b\\u0435\\u043a\\u0441\\u0430\\u043d\\u0434\\u0440\\u044a \\u0441\\u044b\\u043d\\u044a \\u043c\\u043e\\u0438 \\u0434\\u043c\\u0438\\u0442\\u0440\\u0438\\u0438 \\u0441 \\u043f\\u043e\\u0441\\u0430\\u0434\\u043d\\u0438\\u043a\\u043e\\u043c\\u044a \\u043c\\u0438\\u0445\\u0430\\u0438\\u043b\\u044a\\u043c\\u044c \\u0441 \\u0442\\u044b\\u0441\\u0467\\u0446\\u044c\\u043a\\u044b\\u043c\\u044c \\u0436\\u0438\\u0440\\u043e\\u0441\\u043b\\u0430\\u0432\\u043e\\u043c\\u044c \\u0432\\u0441\\u0463\\u043c\\u0438 \\u043d\\u043e\\u0432\\u0433\\u043e\\u0440\\u043e\\u0434\\u0446\\u0438 \\u0434\\u043e\\u043a\\u043e\\u043d\\u0447\\u0430\\u0445\\u043e\\u043c\\u044a \\u043c\\u0438\\u0440\\u044a \\u0441 \\u043f\\u043e\\u0441\\u043b\\u043e\\u043c\\u044c \\u043d\\u0463\\u043c\\u044c\\u0446\\u043a\\u044b\\u043c\\u044c \\u0448\\u0438\\u0432\\u043e\\u0440\\u0434\\u043e\\u043c\\u044c \\u043b\\u044e\\u0431\\u044c\\u0446\\u043a\\u044b\\u043c\\u044c \\u043f\\u043e\\u0441\\u043b\\u043e\\u043c\\u044c \\u0442\\u0438\\u0434\\u0440\\u0438\\u043a\\u043e\\u043c\\u044c \\u0441 \\u0433\\u044a\\u0446\\u043a\\u044b\\u043c\\u044c \\u043f\\u043e\\u0441\\u043b\\u043e\\u043c\\u044a \\u0461\\u043b\\u044a\\u0441\\u0442\\u0435\\u043d\\u044a\\u043c\\u044a \\u0432\\u0441\\u0463\\u043c\\u044a \\u043b\\u0430\\u0442\\u0438\\u043d\\u044c\\u0441\\u043a\\u044b\\u043c\\u044c \\u044f\\u0437\\u044b\\u043a\\u043e\\u043c\\u044c \\u0447\\u0442\\u043e \\u0441\\u0467 \\u0479\\u0447\\u0438\\u043d\\u0438\\u043b\\u043e \\u0442\\u0467\\u0436\\u0435 \\u043c\\u0435\\u0436\\u0438 \\u043d\\u043e\\u0432\\u0433\\u043e\\u0440\\u043e\\u0446\\u0438 \\u043c\\u0435\\u0436\\u044e \\u043d\\u0463\\u043c\\u0446\\u0438 \\u0433\\u0442\\u044b \\u0441\\u043e \\u0432\\u0441\\u0463\\u043c\\u044a \\u043b\\u0430\\u0442\\u0438\\u043d\\u044c\\u0441\\u043a\\u044b\\u043c\\u044c \\u044f\\u0437\\u044b\\u043a\\u044a\\u043c\\u044c \\u0432\\u0441\\u0435 \\u0461\\u0442\\u043b\\u043e\\u0436\\u0438\\u0445\\u043e\\u043c\\u044a \\u043c\\u0438\\u0440\\u044a \\u0434\\u043e\\u043a\\u043e\\u043d\\u0447\\u0430\\u0445\\u044a\\u043c\\u044a \\u0441\\u0435\\u0438 \\u043f\\u0440\\u0430\\u0432\\u0434\\u0463 : \\u043d\\u043e\\u0432\\u0433\\u043e\\u0440\\u043e\\u0446\\u043c\\u044a \\u0433\\u043e\\u0441\\u0442\\u0438\\u0442 \\u0433\\u043e\\u0446\\u044a\\u043a\\u044b\\u0438 \\u0431\\u0435\\u0440\\u0435\\u0433\\u044a \\u0431\\u0435\\u0441 \\u043f\\u0430\\u043a\\u043e\\u0441\\u0442\\u0438 \\u043d\\u0463\\u043c\\u0446\\u044c\\u043c\\u044a \\u0433\\u0442\\u044a\\u043c\\u044a \\u0433\\u043e\\u0441\\u0442\\u0438\\u0442\\u0438 \\u043d\\u043e\\u0432\\u044a\\u0433\\u043e\\u0440\\u043e\\u0434\\u044a \\u0431\\u0435\\u0441 \\u043f\\u0430\\u043a\\u043e\\u0441\\u0442\\u0438 \\u0432\\u0441\\u0435\\u043c\\u0443 \\u043b\\u0430\\u0442\\u0438\\u043d\\u044c\\u0441\\u043a\\u043e\\u043c\\u0479 \\u044f\\u0437\\u044b\\u043a\\u0479 \\u0441\\u0442\\u0430\\u0440\\u044b\\u0438 \\u043c\\u0438\\u0440\\u044a \\u043f\\u0479\\u0434\\u044a \\u043e\\u0442\\u043b\\u043e\\u0436\\u0438\\u0445\\u043e\\u043c\\u044a \\u0441\\u043a\\u0430\\u043b\\u0432\\u0438 \\u043f\\u043e\\u0441\\u0442\\u0430\\u0432\\u0438\\u0445\\u043e\\u043c\\u044a \\u043f\\u043e \\u0441\\u0432\\u043e\\u0465\\u0438 \\u0432\\u043e\\u043b\\u0438 \\u043f\\u043e \\u043b\\u044e\\u0431\\u0432\\u0438 \\u0440\\u0430\\u0442\\u0448\\u0438\\u043d\\u0479 \\u0442\\u0467\\u0436\\u044e \\u043f\\u043b\\u0430\\u0442\\u0438\\u043b\\u0438 \\u0465\\u0441\\u043c\\u044b ~\\u043a~ \\u0433\\u0440\\u0438\\u0432\\u0435\\u043d\\u044a \\u0441\\u0435\\u0440\\u0435\\u0431\\u0440\\u0430 \\u0437\\u0430 \\u0434\\u0432\\u0463 \\u0433\\u043e\\u043b\\u043e\\u0432\\u0435 \\u0442\\u0440\\u0435\\u0442\\u044c\\u044e\\u044e \\u0432\\u044b\\u0434\\u0430\\u0445\\u043e\\u043c\\u044a \\u043d\\u0463\\u043c\\u0446\\u044c\\u043c\\u044a \\u0433\\u0442\\u044a\\u043c\\u044a \\u0432\\u0441\\u0435\\u043c\\u0479 \\u043b\\u0430\\u0442\\u0438\\u043d\\u044c\\u0441\\u043a\\u043e\\u043c\\u0479 \\u044f\\u0437\\u044b\\u043a\\u0479 \\u043f\\u043b\\u0430\\u0442\\u0438\\u0442\\u0438 \\u043f\\u043e \\u0434\\u0432\\u0463 \\u043a\\u0479\\u043d\\u0463 \\u0461\\u0442\\u044a \\u043a\\u0430\\u043f\\u0438 \\u0461\\u0442\\u044a \\u0432\\u0441\\u0467\\u043a\\u043e\\u0433\\u043e \\u0432\\u0463\\u0441\\u043d\\u0430\\u0433\\u043e \\u0442\\u043e\\u0432\\u0430\\u0440\\u0430 \\u0447\\u0442\\u043e \\u043a\\u043b\\u0430\\u0434\\u0479\\u0442\\u044c \\u0441\\u043a\\u0430\\u043b\\u0432\\u0438 \\u043f\\u0440\\u043e\\u0434\\u0430\\u0432\\u0448\\u0435 \\u043a\\u0479\\u043f\\u0438\\u0432\\u0448\\u0435 \\u0441\\u0442\\u0430\\u0440\\u044b\\u0438 \\u043c\\u0438\\u0440\\u044a \\u0434\\u043e \\u043a\\u043e\\u0442\\u043b\\u0438\\u0433\\u043d\\u0463 \\u043d\\u043e\\u0432\\u0433\\u043e\\u0440\\u0434\\u0446\\u0438\\u044c\\u043c\\u044a \\u0432\\u044a \\u0441\\u0442\\u0430\\u043d\\u043e\\u0432\\u0438\\u0449\\u0438 \\u0433\\u043e\\u0446\\u043a\\u043e\\u043c\\u044a \\u0431\\u0435\\u0440\\u0435\\u0437\\u0463 \\u0431\\u0435\\u0441 \\u043f\\u0430\\u043a\\u043e\\u0441\\u0442\\u0438 \\u0432\\u044a \\u0441\\u0442\\u0430\\u0440\\u044b\\u0438 \\u043c\\u0438\\u0440\\u044a \\u0437\\u0438\\u043c\\u043d\\u0438\\u0438 \\u0433\\u043e\\u0441\\u0442\\u044c \\u043d\\u0435 \\u043f\\u043e\\u0438\\u043c\\u0435\\u0442\\u044c \\u043d\\u0430\\u0448\\u0435\\u0433\\u043e \\u043f\\u043e\\u0441\\u043b\\u0430 \\u043d\\u0438 \\u043d\\u043e\\u0432\\u0433\\u043e\\u0440\\u043e\\u0434\\u0446\\u044c\\u0441\\u043a\\u044b\\u0445\\u044a \\u043a\\u0479\\u043f\\u0435\\u0446\\u044c \\u0438\\u0437\\u044a \\u043d\\u043e\\u0432\\u0430\\u0433\\u043e\\u0440\\u043e\\u0434\\u0430 \\u0433\\u044a\\u0446\\u044c\\u043a\\u043e\\u0433\\u043e \\u0431\\u0435\\u0440\\u0435\\u0433\\u0430 \\u0447\\u0442\\u043e \\u0441\\u0467 \\u0479\\u0447\\u0438\\u043d\\u0438\\u0442\\u044c \\u0438\\u0441 \\u043a\\u043e\\u0442\\u043b\\u0438\\u043d\\u0433\\u044a \\u0434\\u043e \\u043d\\u043e\\u0432\\u0430\\u0433\\u043e\\u0440\\u043e\\u0434\\u0430 \\u0438\\u0437 \\u043d\\u043e\\u0432\\u0430\\u0433\\u043e\\u0440\\u043e\\u0434\\u0430 \\u0434\\u043e \\u043a\\u043e\\u0442\\u043b\\u0438\\u043d\\u0433\\u044a \\u043d\\u0435\\u043c\\u0435\\u0446\\u043a\\u044a\\u043c\\u0479 \\u0433\\u043e\\u0441\\u0442\\u0438 \\u0431\\u0435\\u0441 \\u043f\\u043e\\u0441\\u043b\\u0430 \\u043f\\u043e\\u0438\\u0434\\u0479\\u0442\\u044c \\u043d\\u043e\\u0432\\u0479\\u0433\\u043e\\u0440\\u043e\\u0434\\u0479 \\u0442\\u0467\\u0436\\u0467 \\u043d\\u0435 \\u043d\\u0430\\u0434\\u043e\\u0431\\u0435 \\u0432\\u044a \\u0441\\u0442\\u0430\\u0440\\u044b\\u0438 \\u043c\\u0438\\u0440\\u044a \\u043a\\u0442\\u043e \\u0433\\u043e\\u0441\\u0442\\u0438\\u0442\\u044c \\u043a\\u043e\\u0440\\u0463\\u043b\\u0479 \\u043d\\u0463\\u043c\\u0446\\u0438 \\u0433\\u0442\\u0467\\u043d\\u0435 \\u0447\\u0442\\u043e \\u0441\\u0467 \\u0479\\u0447\\u0438\\u043d\\u0438\\u0442\\u044a \\u043d\\u043e\\u0432\\u0479\\u0433\\u043e\\u0440\\u043e\\u0434\\u0479 \\u0442\\u0467\\u0436\\u0467 \\u043d\\u0435 \\u043d\\u0430\\u0434\\u043e\\u0431\\u0435 \\u043a\\u043e\\u0442\\u043e\\u0440\\u044b\\u0445\\u044a \\u0442\\u0440\\u0435\\u0465 \\u0434\\u0432\\u043e\\u0440\\u0446\\u044c \\u0432\\u044a\\u043f\\u0440\\u043e\\u0441\\u0438\\u043b\\u0438 \\u0432\\u0430\\u0448\\u0430 \\u0431\\u0440\\u0430\\u0442\\u044c\\u044f \\u043f\\u043e\\u0441\\u043b\\u0438 \\u0442\\u0463\\u0445\\u044a \\u0441\\u0467 \\u0465\\u0441\\u043c\\u044b \\u0461\\u0442\\u0441\\u0442\\u0479\\u043d\\u0438\\u043b\\u0438 \\u043f\\u043e \\u0441\\u0432\\u043e\\u0465\\u0438 \\u0432\\u043e\\u043b\\u0438 \\u0441\\u0435 \\u0441\\u0442\\u0430\\u0440\\u0430\\u0467 \\u043d\\u0430\\u0448\\u0430 \\u043f\\u0440\\u0430\\u0432\\u0434\\u0430 \\u0433\\u0440\\u0430\\u043c\\u043e\\u0442\\u0430 \\u0447\\u0435\\u043c\\u044c \\u0446\\u0463\\u043b\\u043e\\u0432\\u0430\\u043b\\u0438 \\u0461\\u0442\\u0446\\u0438 \\u0432\\u0430\\u0448\\u0438 \\u043d\\u0430\\u0448\\u0438 \\u043a\\u0440\\u0435\\u0441\\u0442\\u044a \\u0433\\u0434\\u0463 \\u0441\\u0467 \\u0442\\u0467\\u0436\\u0467 \\u0440\\u043e\\u0434\\u0438\\u0442\\u044c \\u0442\\u0479 \\u044e \\u043a\\u043e\\u043d\\u0447\\u0430\\u0442\\u0438 \\u0438\\u043d\\u043e\\u0465 \\u0433\\u0440\\u0430\\u043c\\u043e\\u0442\\u044b \\u0479 \\u043d\\u0430\\u0441\\u044a \\u0463\\u0442\\u0479\\u0442\\u044c \\u043d\\u0438 \\u043f\\u043e\\u0442\\u0430\\u0438\\u043b\\u0438 \\u0465\\u0441\\u043c\\u044b \\u043d\\u0438 \\u0432\\u0463\\u0434\\u0430\\u0465\\u043c\\u044a \\u0442\\u043e\\u043c\\u044c \\u043a\\u0440\\u0435\\u0441\\u0442\\u044a \\u0446\\u0463\\u043b\\u0479\\u0435\\u043c\\u044a\",\n          \"\\u0430\\u0437\\u044a, \\u0430\\u043d\\u0434\\u0440\\u0463\\u0438 \\u0434\\u0430\\u043d\\u0438\\u043b\\u044c\\u0465\\u0432\\u0438\\u0447\\u044c \\u043c\\u0438 \\u0431\\u044b\\u0442\\u044c \\u043e\\u0443 \\u043f\\u043e\\u043b\\u043e\\u0442\\u0441\\u044c\\u043a\\u0463 \\u0434\\u0430\\u044e \\u043f\\u0440\\u043e\\u0441\\u043c\\u043e\\u0443\\u0436\\u044c\\u0446\\u0438 \\u0441\\u0432\\u043e\\u044e \\u043e\\u0447\\u0438\\u043d\\u0443 \\u0434\\u0463\\u0434\\u0438\\u043d\\u043e\\u0443 \\u043e\\u0446\\u044e i \\u043c\\u0430\\u0442\\u0435\\u0440\\u0438 \\u043f\\u043b\\u0435\\u043c\\u0435\\u043d\\u0438 \\u043da o\\u0443\\u0441\\u0442\\u0443\\u043f\\u0438\\u0442\\u044c\\u0441\\u0467 \\u043a\\u043e\\u0442\\u043e\\u0440\\u044b\\u0438 \\u043a\\u043d\\u0467\\u0437\\u044c \\u0438\\u043b\\u0438 \\u0432\\u0435\\u043b\\u044c\\u043c\\u043e\\u0436\\u0430 \\u0441\\u0442\\u0430\\u0467 \\u0431\\u0443\\u0434\\u0435\\u0442\\u044c \\u043f\\u0440\\u043e\\u043a\\u043b\\u0467\\u0442\\u044a\"\n        ],\n        \"semantic_type\": \"\",\n        \"description\": \"\"\n      }\n    }\n  ]\n}"
            }
          },
          "metadata": {},
          "execution_count": 13
        }
      ]
    },
    {
      "cell_type": "markdown",
      "source": [
        "## Vectorisation"
      ],
      "metadata": {
        "id": "wnFxN5PR5ny3"
      }
    },
    {
      "cell_type": "markdown",
      "source": [
        "I start with creating a model for representing key properties of the lect:\n",
        "\n",
        "* Its name\n",
        "* Text it contains, lowercased\n",
        "* Its alphabet (with obligatory CLS `^` and EOS `$` symbols)\n",
        "* Amount of enthropy of its alphabet\n",
        "* Vector for each given symbol of alphabet"
      ],
      "metadata": {
        "id": "TUy5revgRJx5"
      }
    },
    {
      "cell_type": "code",
      "source": [
        "from corpus_distance.data_preprocessing.vectorisation import create_vectors_for_lects, gather_vector_information, FastTextParams"
      ],
      "metadata": {
        "id": "AkXzRHyvsS21"
      },
      "execution_count": 14,
      "outputs": []
    },
    {
      "cell_type": "code",
      "source": [
        "vectors_for_lects = create_vectors_for_lects(df_without_topics)"
      ],
      "metadata": {
        "colab": {
          "base_uri": "https://localhost:8080/"
        },
        "id": "hL_YztWKqqI2",
        "outputId": "b8f7d271-4c0f-49c3-8928-805fc9473fdb"
      },
      "execution_count": 15,
      "outputs": [
        {
          "output_type": "stream",
          "name": "stderr",
          "text": [
            "100%|██████████| 3/3 [00:08<00:00,  2.78s/it]\n"
          ]
        }
      ]
    },
    {
      "cell_type": "code",
      "source": [
        "from pprint import pprint"
      ],
      "metadata": {
        "id": "y0OxjYG-sveL"
      },
      "execution_count": 16,
      "outputs": []
    },
    {
      "cell_type": "code",
      "source": [
        "pprint(vectors_for_lects)"
      ],
      "metadata": {
        "colab": {
          "base_uri": "https://localhost:8080/"
        },
        "id": "APhPLjKg5cUB",
        "outputId": "3c13e62b-fd8e-4b54-f516-59494012841b"
      },
      "execution_count": 17,
      "outputs": [
        {
          "output_type": "stream",
          "name": "stdout",
          "text": [
            "{'Novgorod': <corpus_distance.data_preprocessing.vectorisation.Lect object at 0x7ac52bf9f520>,\n",
            " 'Polotsk': <corpus_distance.data_preprocessing.vectorisation.Lect object at 0x7ac52bf9ee30>,\n",
            " 'Smolensk': <corpus_distance.data_preprocessing.vectorisation.Lect object at 0x7ac52bf9f5e0>}\n"
          ]
        }
      ]
    },
    {
      "cell_type": "markdown",
      "source": [
        "# Date preprocessing"
      ],
      "metadata": {
        "id": "gfV9w9IHA9o8"
      }
    },
    {
      "cell_type": "markdown",
      "source": [
        "The first stage of data preprocessing is splitting tokens into character 3-grams. The character n-grams help to find coinciding sequences more easily, than tokens or token n-grams. Specifically 3-grams help to underscore the exact places where the change is happening, providing minimal left and right context for each symbol within the sequence. Adding special symbols *^* and *$* to the start and the end of each sequence helps to do this for the first and the last symbol of the given sequence as well."
      ],
      "metadata": {
        "id": "R7tc-8VxE-nz"
      }
    },
    {
      "cell_type": "code",
      "source": [
        "from corpus_distance.data_preprocessing.shingle_processing import split_lects_by_n_grams"
      ],
      "metadata": {
        "id": "X0OFGXEbs2nl"
      },
      "execution_count": 18,
      "outputs": []
    },
    {
      "cell_type": "code",
      "source": [
        "df_with_n_grams = split_lects_by_n_grams(df_without_topics)"
      ],
      "metadata": {
        "id": "5C9QTfagb9x5"
      },
      "execution_count": 19,
      "outputs": []
    },
    {
      "cell_type": "markdown",
      "source": [
        "New dataframe is in the following format:\n",
        "\n",
        "| index | lect | n-gram array |\n",
        "| -------- | ------- |------- |\n",
        "| 0 | lect1 | n-grams of lect1 |\n",
        "| 1 | lect1 | n-grams of lect1 |\n",
        "| ... | ... | ... |\n",
        "| k | lectK | n-grams of lect lectK |\n",
        "\n",
        "Here, *k* is overall number of lects."
      ],
      "metadata": {
        "id": "yC_1p94MKCmg"
      }
    },
    {
      "cell_type": "code",
      "source": [
        "df_with_n_grams.head()"
      ],
      "metadata": {
        "id": "u8MDVOsHddap",
        "colab": {
          "base_uri": "https://localhost:8080/",
          "height": 143
        },
        "outputId": "95c8f6db-78ba-428f-aacf-03eaf8dd92c0"
      },
      "execution_count": 20,
      "outputs": [
        {
          "output_type": "execute_result",
          "data": {
            "text/plain": [
              "       lect                                            n_grams\n",
              "0   Polotsk  [^ⴕ$, ^по, пок, окл, кло, лон, онъ, нъ$, ^бл, ...\n",
              "1  Novgorod  [^се, се$, ^аз, азъ, зъ$, ^кн, кнѧ, нѧз, ѧзь, ...\n",
              "2  Smolensk  [^се, се$, ^яз, язъ, зъ$, ^кн, кнѧ, нѧз, ѧзь, ..."
            ],
            "text/html": [
              "\n",
              "  <div id=\"df-106db7e2-47c8-4e19-9605-216a24b8cba8\" class=\"colab-df-container\">\n",
              "    <div>\n",
              "<style scoped>\n",
              "    .dataframe tbody tr th:only-of-type {\n",
              "        vertical-align: middle;\n",
              "    }\n",
              "\n",
              "    .dataframe tbody tr th {\n",
              "        vertical-align: top;\n",
              "    }\n",
              "\n",
              "    .dataframe thead th {\n",
              "        text-align: right;\n",
              "    }\n",
              "</style>\n",
              "<table border=\"1\" class=\"dataframe\">\n",
              "  <thead>\n",
              "    <tr style=\"text-align: right;\">\n",
              "      <th></th>\n",
              "      <th>lect</th>\n",
              "      <th>n_grams</th>\n",
              "    </tr>\n",
              "  </thead>\n",
              "  <tbody>\n",
              "    <tr>\n",
              "      <th>0</th>\n",
              "      <td>Polotsk</td>\n",
              "      <td>[^ⴕ$, ^по, пок, окл, кло, лон, онъ, нъ$, ^бл, ...</td>\n",
              "    </tr>\n",
              "    <tr>\n",
              "      <th>1</th>\n",
              "      <td>Novgorod</td>\n",
              "      <td>[^се, се$, ^аз, азъ, зъ$, ^кн, кнѧ, нѧз, ѧзь, ...</td>\n",
              "    </tr>\n",
              "    <tr>\n",
              "      <th>2</th>\n",
              "      <td>Smolensk</td>\n",
              "      <td>[^се, се$, ^яз, язъ, зъ$, ^кн, кнѧ, нѧз, ѧзь, ...</td>\n",
              "    </tr>\n",
              "  </tbody>\n",
              "</table>\n",
              "</div>\n",
              "    <div class=\"colab-df-buttons\">\n",
              "\n",
              "  <div class=\"colab-df-container\">\n",
              "    <button class=\"colab-df-convert\" onclick=\"convertToInteractive('df-106db7e2-47c8-4e19-9605-216a24b8cba8')\"\n",
              "            title=\"Convert this dataframe to an interactive table.\"\n",
              "            style=\"display:none;\">\n",
              "\n",
              "  <svg xmlns=\"http://www.w3.org/2000/svg\" height=\"24px\" viewBox=\"0 -960 960 960\">\n",
              "    <path d=\"M120-120v-720h720v720H120Zm60-500h600v-160H180v160Zm220 220h160v-160H400v160Zm0 220h160v-160H400v160ZM180-400h160v-160H180v160Zm440 0h160v-160H620v160ZM180-180h160v-160H180v160Zm440 0h160v-160H620v160Z\"/>\n",
              "  </svg>\n",
              "    </button>\n",
              "\n",
              "  <style>\n",
              "    .colab-df-container {\n",
              "      display:flex;\n",
              "      gap: 12px;\n",
              "    }\n",
              "\n",
              "    .colab-df-convert {\n",
              "      background-color: #E8F0FE;\n",
              "      border: none;\n",
              "      border-radius: 50%;\n",
              "      cursor: pointer;\n",
              "      display: none;\n",
              "      fill: #1967D2;\n",
              "      height: 32px;\n",
              "      padding: 0 0 0 0;\n",
              "      width: 32px;\n",
              "    }\n",
              "\n",
              "    .colab-df-convert:hover {\n",
              "      background-color: #E2EBFA;\n",
              "      box-shadow: 0px 1px 2px rgba(60, 64, 67, 0.3), 0px 1px 3px 1px rgba(60, 64, 67, 0.15);\n",
              "      fill: #174EA6;\n",
              "    }\n",
              "\n",
              "    .colab-df-buttons div {\n",
              "      margin-bottom: 4px;\n",
              "    }\n",
              "\n",
              "    [theme=dark] .colab-df-convert {\n",
              "      background-color: #3B4455;\n",
              "      fill: #D2E3FC;\n",
              "    }\n",
              "\n",
              "    [theme=dark] .colab-df-convert:hover {\n",
              "      background-color: #434B5C;\n",
              "      box-shadow: 0px 1px 3px 1px rgba(0, 0, 0, 0.15);\n",
              "      filter: drop-shadow(0px 1px 2px rgba(0, 0, 0, 0.3));\n",
              "      fill: #FFFFFF;\n",
              "    }\n",
              "  </style>\n",
              "\n",
              "    <script>\n",
              "      const buttonEl =\n",
              "        document.querySelector('#df-106db7e2-47c8-4e19-9605-216a24b8cba8 button.colab-df-convert');\n",
              "      buttonEl.style.display =\n",
              "        google.colab.kernel.accessAllowed ? 'block' : 'none';\n",
              "\n",
              "      async function convertToInteractive(key) {\n",
              "        const element = document.querySelector('#df-106db7e2-47c8-4e19-9605-216a24b8cba8');\n",
              "        const dataTable =\n",
              "          await google.colab.kernel.invokeFunction('convertToInteractive',\n",
              "                                                    [key], {});\n",
              "        if (!dataTable) return;\n",
              "\n",
              "        const docLinkHtml = 'Like what you see? Visit the ' +\n",
              "          '<a target=\"_blank\" href=https://colab.research.google.com/notebooks/data_table.ipynb>data table notebook</a>'\n",
              "          + ' to learn more about interactive tables.';\n",
              "        element.innerHTML = '';\n",
              "        dataTable['output_type'] = 'display_data';\n",
              "        await google.colab.output.renderOutput(dataTable, element);\n",
              "        const docLink = document.createElement('div');\n",
              "        docLink.innerHTML = docLinkHtml;\n",
              "        element.appendChild(docLink);\n",
              "      }\n",
              "    </script>\n",
              "  </div>\n",
              "\n",
              "\n",
              "<div id=\"df-344d6d35-7f23-4649-8d3c-b9f3c6b54ba7\">\n",
              "  <button class=\"colab-df-quickchart\" onclick=\"quickchart('df-344d6d35-7f23-4649-8d3c-b9f3c6b54ba7')\"\n",
              "            title=\"Suggest charts\"\n",
              "            style=\"display:none;\">\n",
              "\n",
              "<svg xmlns=\"http://www.w3.org/2000/svg\" height=\"24px\"viewBox=\"0 0 24 24\"\n",
              "     width=\"24px\">\n",
              "    <g>\n",
              "        <path d=\"M19 3H5c-1.1 0-2 .9-2 2v14c0 1.1.9 2 2 2h14c1.1 0 2-.9 2-2V5c0-1.1-.9-2-2-2zM9 17H7v-7h2v7zm4 0h-2V7h2v10zm4 0h-2v-4h2v4z\"/>\n",
              "    </g>\n",
              "</svg>\n",
              "  </button>\n",
              "\n",
              "<style>\n",
              "  .colab-df-quickchart {\n",
              "      --bg-color: #E8F0FE;\n",
              "      --fill-color: #1967D2;\n",
              "      --hover-bg-color: #E2EBFA;\n",
              "      --hover-fill-color: #174EA6;\n",
              "      --disabled-fill-color: #AAA;\n",
              "      --disabled-bg-color: #DDD;\n",
              "  }\n",
              "\n",
              "  [theme=dark] .colab-df-quickchart {\n",
              "      --bg-color: #3B4455;\n",
              "      --fill-color: #D2E3FC;\n",
              "      --hover-bg-color: #434B5C;\n",
              "      --hover-fill-color: #FFFFFF;\n",
              "      --disabled-bg-color: #3B4455;\n",
              "      --disabled-fill-color: #666;\n",
              "  }\n",
              "\n",
              "  .colab-df-quickchart {\n",
              "    background-color: var(--bg-color);\n",
              "    border: none;\n",
              "    border-radius: 50%;\n",
              "    cursor: pointer;\n",
              "    display: none;\n",
              "    fill: var(--fill-color);\n",
              "    height: 32px;\n",
              "    padding: 0;\n",
              "    width: 32px;\n",
              "  }\n",
              "\n",
              "  .colab-df-quickchart:hover {\n",
              "    background-color: var(--hover-bg-color);\n",
              "    box-shadow: 0 1px 2px rgba(60, 64, 67, 0.3), 0 1px 3px 1px rgba(60, 64, 67, 0.15);\n",
              "    fill: var(--button-hover-fill-color);\n",
              "  }\n",
              "\n",
              "  .colab-df-quickchart-complete:disabled,\n",
              "  .colab-df-quickchart-complete:disabled:hover {\n",
              "    background-color: var(--disabled-bg-color);\n",
              "    fill: var(--disabled-fill-color);\n",
              "    box-shadow: none;\n",
              "  }\n",
              "\n",
              "  .colab-df-spinner {\n",
              "    border: 2px solid var(--fill-color);\n",
              "    border-color: transparent;\n",
              "    border-bottom-color: var(--fill-color);\n",
              "    animation:\n",
              "      spin 1s steps(1) infinite;\n",
              "  }\n",
              "\n",
              "  @keyframes spin {\n",
              "    0% {\n",
              "      border-color: transparent;\n",
              "      border-bottom-color: var(--fill-color);\n",
              "      border-left-color: var(--fill-color);\n",
              "    }\n",
              "    20% {\n",
              "      border-color: transparent;\n",
              "      border-left-color: var(--fill-color);\n",
              "      border-top-color: var(--fill-color);\n",
              "    }\n",
              "    30% {\n",
              "      border-color: transparent;\n",
              "      border-left-color: var(--fill-color);\n",
              "      border-top-color: var(--fill-color);\n",
              "      border-right-color: var(--fill-color);\n",
              "    }\n",
              "    40% {\n",
              "      border-color: transparent;\n",
              "      border-right-color: var(--fill-color);\n",
              "      border-top-color: var(--fill-color);\n",
              "    }\n",
              "    60% {\n",
              "      border-color: transparent;\n",
              "      border-right-color: var(--fill-color);\n",
              "    }\n",
              "    80% {\n",
              "      border-color: transparent;\n",
              "      border-right-color: var(--fill-color);\n",
              "      border-bottom-color: var(--fill-color);\n",
              "    }\n",
              "    90% {\n",
              "      border-color: transparent;\n",
              "      border-bottom-color: var(--fill-color);\n",
              "    }\n",
              "  }\n",
              "</style>\n",
              "\n",
              "  <script>\n",
              "    async function quickchart(key) {\n",
              "      const quickchartButtonEl =\n",
              "        document.querySelector('#' + key + ' button');\n",
              "      quickchartButtonEl.disabled = true;  // To prevent multiple clicks.\n",
              "      quickchartButtonEl.classList.add('colab-df-spinner');\n",
              "      try {\n",
              "        const charts = await google.colab.kernel.invokeFunction(\n",
              "            'suggestCharts', [key], {});\n",
              "      } catch (error) {\n",
              "        console.error('Error during call to suggestCharts:', error);\n",
              "      }\n",
              "      quickchartButtonEl.classList.remove('colab-df-spinner');\n",
              "      quickchartButtonEl.classList.add('colab-df-quickchart-complete');\n",
              "    }\n",
              "    (() => {\n",
              "      let quickchartButtonEl =\n",
              "        document.querySelector('#df-344d6d35-7f23-4649-8d3c-b9f3c6b54ba7 button');\n",
              "      quickchartButtonEl.style.display =\n",
              "        google.colab.kernel.accessAllowed ? 'block' : 'none';\n",
              "    })();\n",
              "  </script>\n",
              "</div>\n",
              "    </div>\n",
              "  </div>\n"
            ],
            "application/vnd.google.colaboratory.intrinsic+json": {
              "type": "dataframe",
              "variable_name": "df_with_n_grams",
              "summary": "{\n  \"name\": \"df_with_n_grams\",\n  \"rows\": 3,\n  \"fields\": [\n    {\n      \"column\": \"lect\",\n      \"properties\": {\n        \"dtype\": \"string\",\n        \"num_unique_values\": 3,\n        \"samples\": [\n          \"Polotsk\",\n          \"Novgorod\",\n          \"Smolensk\"\n        ],\n        \"semantic_type\": \"\",\n        \"description\": \"\"\n      }\n    },\n    {\n      \"column\": \"n_grams\",\n      \"properties\": {\n        \"dtype\": \"object\",\n        \"semantic_type\": \"\",\n        \"description\": \"\"\n      }\n    }\n  ]\n}"
            }
          },
          "metadata": {},
          "execution_count": 20
        }
      ]
    },
    {
      "cell_type": "markdown",
      "source": [
        "The next step is to rank n-grams by frequency. The results form *frequency_arranged_n_grams* column of the dataframe."
      ],
      "metadata": {
        "id": "t1TQvhnPLbom"
      }
    },
    {
      "cell_type": "code",
      "source": [
        "from corpus_distance.data_preprocessing.frequency_scoring import count_n_grams_frequencies"
      ],
      "metadata": {
        "id": "hSJ60FhttvHP"
      },
      "execution_count": 21,
      "outputs": []
    },
    {
      "cell_type": "code",
      "source": [
        "df_new = count_n_grams_frequencies(df_with_n_grams)"
      ],
      "metadata": {
        "id": "sZHTm7ZEVo5e"
      },
      "execution_count": 22,
      "outputs": []
    },
    {
      "cell_type": "code",
      "source": [
        "# add information on letter vectors and alphabet information to dataframe\n",
        "\n",
        "df_new = gather_vector_information(df_new, vectors_for_lects)"
      ],
      "metadata": {
        "id": "rwtQ4xwoMoo-"
      },
      "execution_count": 23,
      "outputs": []
    },
    {
      "cell_type": "code",
      "source": [
        "df_new.head()"
      ],
      "metadata": {
        "colab": {
          "base_uri": "https://localhost:8080/",
          "height": 195
        },
        "id": "MJNi_14rkPhs",
        "outputId": "53224409-3381-44ab-e629-1040e5642124"
      },
      "execution_count": 24,
      "outputs": [
        {
          "output_type": "execute_result",
          "data": {
            "text/plain": [
              "       lect                                            n_grams  \\\n",
              "0   Polotsk  [^ⴕ$, ^по, пок, окл, кло, лон, онъ, нъ$, ^бл, ...   \n",
              "1  Novgorod  [^се, се$, ^аз, азъ, зъ$, ^кн, кнѧ, нѧз, ѧзь, ...   \n",
              "2  Smolensk  [^се, се$, ^яз, язъ, зъ$, ^кн, кнѧ, нѧз, ѧзь, ...   \n",
              "\n",
              "                          frequency_arranged_n_grams  \\\n",
              "0  [(^по, 0), (ти$, 1), (пол, 2), (ть$, 3), (оло,...   \n",
              "1  [(оро, 0), (^по, 1), (ть$, 2), (мъ$, 3), (нов,...   \n",
              "2  [(ть$, 0), (ьск, 1), (^см, 2), (смо, 3), (мол,...   \n",
              "\n",
              "                          relative_frequency_n_grams  \\\n",
              "0  [(^по, 0.25), (ти$, 0.25049455984174085), (пол...   \n",
              "1  [(оро, 0.25), (^по, 0.2504887585532747), (ть$,...   \n",
              "2  [(ть$, 0.25), (ьск, 0.2504646840148699), (^см,...   \n",
              "\n",
              "                                        lect_vectors  lect_info  \n",
              "0  {'^': [-0.097130634, 0.011102267, 0.04695524, ...   4.505268  \n",
              "1  {'^': [0.119499736, -0.118440114, -0.010866955...   4.565759  \n",
              "2  {'^': [-0.055083457, -0.089446664, 0.040926043...   4.500708  "
            ],
            "text/html": [
              "\n",
              "  <div id=\"df-657961e9-1c6b-4b92-8b09-e3bed285318c\" class=\"colab-df-container\">\n",
              "    <div>\n",
              "<style scoped>\n",
              "    .dataframe tbody tr th:only-of-type {\n",
              "        vertical-align: middle;\n",
              "    }\n",
              "\n",
              "    .dataframe tbody tr th {\n",
              "        vertical-align: top;\n",
              "    }\n",
              "\n",
              "    .dataframe thead th {\n",
              "        text-align: right;\n",
              "    }\n",
              "</style>\n",
              "<table border=\"1\" class=\"dataframe\">\n",
              "  <thead>\n",
              "    <tr style=\"text-align: right;\">\n",
              "      <th></th>\n",
              "      <th>lect</th>\n",
              "      <th>n_grams</th>\n",
              "      <th>frequency_arranged_n_grams</th>\n",
              "      <th>relative_frequency_n_grams</th>\n",
              "      <th>lect_vectors</th>\n",
              "      <th>lect_info</th>\n",
              "    </tr>\n",
              "  </thead>\n",
              "  <tbody>\n",
              "    <tr>\n",
              "      <th>0</th>\n",
              "      <td>Polotsk</td>\n",
              "      <td>[^ⴕ$, ^по, пок, окл, кло, лон, онъ, нъ$, ^бл, ...</td>\n",
              "      <td>[(^по, 0), (ти$, 1), (пол, 2), (ть$, 3), (оло,...</td>\n",
              "      <td>[(^по, 0.25), (ти$, 0.25049455984174085), (пол...</td>\n",
              "      <td>{'^': [-0.097130634, 0.011102267, 0.04695524, ...</td>\n",
              "      <td>4.505268</td>\n",
              "    </tr>\n",
              "    <tr>\n",
              "      <th>1</th>\n",
              "      <td>Novgorod</td>\n",
              "      <td>[^се, се$, ^аз, азъ, зъ$, ^кн, кнѧ, нѧз, ѧзь, ...</td>\n",
              "      <td>[(оро, 0), (^по, 1), (ть$, 2), (мъ$, 3), (нов,...</td>\n",
              "      <td>[(оро, 0.25), (^по, 0.2504887585532747), (ть$,...</td>\n",
              "      <td>{'^': [0.119499736, -0.118440114, -0.010866955...</td>\n",
              "      <td>4.565759</td>\n",
              "    </tr>\n",
              "    <tr>\n",
              "      <th>2</th>\n",
              "      <td>Smolensk</td>\n",
              "      <td>[^се, се$, ^яз, язъ, зъ$, ^кн, кнѧ, нѧз, ѧзь, ...</td>\n",
              "      <td>[(ть$, 0), (ьск, 1), (^см, 2), (смо, 3), (мол,...</td>\n",
              "      <td>[(ть$, 0.25), (ьск, 0.2504646840148699), (^см,...</td>\n",
              "      <td>{'^': [-0.055083457, -0.089446664, 0.040926043...</td>\n",
              "      <td>4.500708</td>\n",
              "    </tr>\n",
              "  </tbody>\n",
              "</table>\n",
              "</div>\n",
              "    <div class=\"colab-df-buttons\">\n",
              "\n",
              "  <div class=\"colab-df-container\">\n",
              "    <button class=\"colab-df-convert\" onclick=\"convertToInteractive('df-657961e9-1c6b-4b92-8b09-e3bed285318c')\"\n",
              "            title=\"Convert this dataframe to an interactive table.\"\n",
              "            style=\"display:none;\">\n",
              "\n",
              "  <svg xmlns=\"http://www.w3.org/2000/svg\" height=\"24px\" viewBox=\"0 -960 960 960\">\n",
              "    <path d=\"M120-120v-720h720v720H120Zm60-500h600v-160H180v160Zm220 220h160v-160H400v160Zm0 220h160v-160H400v160ZM180-400h160v-160H180v160Zm440 0h160v-160H620v160ZM180-180h160v-160H180v160Zm440 0h160v-160H620v160Z\"/>\n",
              "  </svg>\n",
              "    </button>\n",
              "\n",
              "  <style>\n",
              "    .colab-df-container {\n",
              "      display:flex;\n",
              "      gap: 12px;\n",
              "    }\n",
              "\n",
              "    .colab-df-convert {\n",
              "      background-color: #E8F0FE;\n",
              "      border: none;\n",
              "      border-radius: 50%;\n",
              "      cursor: pointer;\n",
              "      display: none;\n",
              "      fill: #1967D2;\n",
              "      height: 32px;\n",
              "      padding: 0 0 0 0;\n",
              "      width: 32px;\n",
              "    }\n",
              "\n",
              "    .colab-df-convert:hover {\n",
              "      background-color: #E2EBFA;\n",
              "      box-shadow: 0px 1px 2px rgba(60, 64, 67, 0.3), 0px 1px 3px 1px rgba(60, 64, 67, 0.15);\n",
              "      fill: #174EA6;\n",
              "    }\n",
              "\n",
              "    .colab-df-buttons div {\n",
              "      margin-bottom: 4px;\n",
              "    }\n",
              "\n",
              "    [theme=dark] .colab-df-convert {\n",
              "      background-color: #3B4455;\n",
              "      fill: #D2E3FC;\n",
              "    }\n",
              "\n",
              "    [theme=dark] .colab-df-convert:hover {\n",
              "      background-color: #434B5C;\n",
              "      box-shadow: 0px 1px 3px 1px rgba(0, 0, 0, 0.15);\n",
              "      filter: drop-shadow(0px 1px 2px rgba(0, 0, 0, 0.3));\n",
              "      fill: #FFFFFF;\n",
              "    }\n",
              "  </style>\n",
              "\n",
              "    <script>\n",
              "      const buttonEl =\n",
              "        document.querySelector('#df-657961e9-1c6b-4b92-8b09-e3bed285318c button.colab-df-convert');\n",
              "      buttonEl.style.display =\n",
              "        google.colab.kernel.accessAllowed ? 'block' : 'none';\n",
              "\n",
              "      async function convertToInteractive(key) {\n",
              "        const element = document.querySelector('#df-657961e9-1c6b-4b92-8b09-e3bed285318c');\n",
              "        const dataTable =\n",
              "          await google.colab.kernel.invokeFunction('convertToInteractive',\n",
              "                                                    [key], {});\n",
              "        if (!dataTable) return;\n",
              "\n",
              "        const docLinkHtml = 'Like what you see? Visit the ' +\n",
              "          '<a target=\"_blank\" href=https://colab.research.google.com/notebooks/data_table.ipynb>data table notebook</a>'\n",
              "          + ' to learn more about interactive tables.';\n",
              "        element.innerHTML = '';\n",
              "        dataTable['output_type'] = 'display_data';\n",
              "        await google.colab.output.renderOutput(dataTable, element);\n",
              "        const docLink = document.createElement('div');\n",
              "        docLink.innerHTML = docLinkHtml;\n",
              "        element.appendChild(docLink);\n",
              "      }\n",
              "    </script>\n",
              "  </div>\n",
              "\n",
              "\n",
              "<div id=\"df-de94d7b6-9265-41dc-98fb-0c40ce4623b0\">\n",
              "  <button class=\"colab-df-quickchart\" onclick=\"quickchart('df-de94d7b6-9265-41dc-98fb-0c40ce4623b0')\"\n",
              "            title=\"Suggest charts\"\n",
              "            style=\"display:none;\">\n",
              "\n",
              "<svg xmlns=\"http://www.w3.org/2000/svg\" height=\"24px\"viewBox=\"0 0 24 24\"\n",
              "     width=\"24px\">\n",
              "    <g>\n",
              "        <path d=\"M19 3H5c-1.1 0-2 .9-2 2v14c0 1.1.9 2 2 2h14c1.1 0 2-.9 2-2V5c0-1.1-.9-2-2-2zM9 17H7v-7h2v7zm4 0h-2V7h2v10zm4 0h-2v-4h2v4z\"/>\n",
              "    </g>\n",
              "</svg>\n",
              "  </button>\n",
              "\n",
              "<style>\n",
              "  .colab-df-quickchart {\n",
              "      --bg-color: #E8F0FE;\n",
              "      --fill-color: #1967D2;\n",
              "      --hover-bg-color: #E2EBFA;\n",
              "      --hover-fill-color: #174EA6;\n",
              "      --disabled-fill-color: #AAA;\n",
              "      --disabled-bg-color: #DDD;\n",
              "  }\n",
              "\n",
              "  [theme=dark] .colab-df-quickchart {\n",
              "      --bg-color: #3B4455;\n",
              "      --fill-color: #D2E3FC;\n",
              "      --hover-bg-color: #434B5C;\n",
              "      --hover-fill-color: #FFFFFF;\n",
              "      --disabled-bg-color: #3B4455;\n",
              "      --disabled-fill-color: #666;\n",
              "  }\n",
              "\n",
              "  .colab-df-quickchart {\n",
              "    background-color: var(--bg-color);\n",
              "    border: none;\n",
              "    border-radius: 50%;\n",
              "    cursor: pointer;\n",
              "    display: none;\n",
              "    fill: var(--fill-color);\n",
              "    height: 32px;\n",
              "    padding: 0;\n",
              "    width: 32px;\n",
              "  }\n",
              "\n",
              "  .colab-df-quickchart:hover {\n",
              "    background-color: var(--hover-bg-color);\n",
              "    box-shadow: 0 1px 2px rgba(60, 64, 67, 0.3), 0 1px 3px 1px rgba(60, 64, 67, 0.15);\n",
              "    fill: var(--button-hover-fill-color);\n",
              "  }\n",
              "\n",
              "  .colab-df-quickchart-complete:disabled,\n",
              "  .colab-df-quickchart-complete:disabled:hover {\n",
              "    background-color: var(--disabled-bg-color);\n",
              "    fill: var(--disabled-fill-color);\n",
              "    box-shadow: none;\n",
              "  }\n",
              "\n",
              "  .colab-df-spinner {\n",
              "    border: 2px solid var(--fill-color);\n",
              "    border-color: transparent;\n",
              "    border-bottom-color: var(--fill-color);\n",
              "    animation:\n",
              "      spin 1s steps(1) infinite;\n",
              "  }\n",
              "\n",
              "  @keyframes spin {\n",
              "    0% {\n",
              "      border-color: transparent;\n",
              "      border-bottom-color: var(--fill-color);\n",
              "      border-left-color: var(--fill-color);\n",
              "    }\n",
              "    20% {\n",
              "      border-color: transparent;\n",
              "      border-left-color: var(--fill-color);\n",
              "      border-top-color: var(--fill-color);\n",
              "    }\n",
              "    30% {\n",
              "      border-color: transparent;\n",
              "      border-left-color: var(--fill-color);\n",
              "      border-top-color: var(--fill-color);\n",
              "      border-right-color: var(--fill-color);\n",
              "    }\n",
              "    40% {\n",
              "      border-color: transparent;\n",
              "      border-right-color: var(--fill-color);\n",
              "      border-top-color: var(--fill-color);\n",
              "    }\n",
              "    60% {\n",
              "      border-color: transparent;\n",
              "      border-right-color: var(--fill-color);\n",
              "    }\n",
              "    80% {\n",
              "      border-color: transparent;\n",
              "      border-right-color: var(--fill-color);\n",
              "      border-bottom-color: var(--fill-color);\n",
              "    }\n",
              "    90% {\n",
              "      border-color: transparent;\n",
              "      border-bottom-color: var(--fill-color);\n",
              "    }\n",
              "  }\n",
              "</style>\n",
              "\n",
              "  <script>\n",
              "    async function quickchart(key) {\n",
              "      const quickchartButtonEl =\n",
              "        document.querySelector('#' + key + ' button');\n",
              "      quickchartButtonEl.disabled = true;  // To prevent multiple clicks.\n",
              "      quickchartButtonEl.classList.add('colab-df-spinner');\n",
              "      try {\n",
              "        const charts = await google.colab.kernel.invokeFunction(\n",
              "            'suggestCharts', [key], {});\n",
              "      } catch (error) {\n",
              "        console.error('Error during call to suggestCharts:', error);\n",
              "      }\n",
              "      quickchartButtonEl.classList.remove('colab-df-spinner');\n",
              "      quickchartButtonEl.classList.add('colab-df-quickchart-complete');\n",
              "    }\n",
              "    (() => {\n",
              "      let quickchartButtonEl =\n",
              "        document.querySelector('#df-de94d7b6-9265-41dc-98fb-0c40ce4623b0 button');\n",
              "      quickchartButtonEl.style.display =\n",
              "        google.colab.kernel.accessAllowed ? 'block' : 'none';\n",
              "    })();\n",
              "  </script>\n",
              "</div>\n",
              "    </div>\n",
              "  </div>\n"
            ],
            "application/vnd.google.colaboratory.intrinsic+json": {
              "type": "dataframe",
              "variable_name": "df_new",
              "summary": "{\n  \"name\": \"df_new\",\n  \"rows\": 3,\n  \"fields\": [\n    {\n      \"column\": \"lect\",\n      \"properties\": {\n        \"dtype\": \"string\",\n        \"num_unique_values\": 3,\n        \"samples\": [\n          \"Polotsk\",\n          \"Novgorod\",\n          \"Smolensk\"\n        ],\n        \"semantic_type\": \"\",\n        \"description\": \"\"\n      }\n    },\n    {\n      \"column\": \"n_grams\",\n      \"properties\": {\n        \"dtype\": \"object\",\n        \"semantic_type\": \"\",\n        \"description\": \"\"\n      }\n    },\n    {\n      \"column\": \"frequency_arranged_n_grams\",\n      \"properties\": {\n        \"dtype\": \"object\",\n        \"semantic_type\": \"\",\n        \"description\": \"\"\n      }\n    },\n    {\n      \"column\": \"relative_frequency_n_grams\",\n      \"properties\": {\n        \"dtype\": \"object\",\n        \"semantic_type\": \"\",\n        \"description\": \"\"\n      }\n    },\n    {\n      \"column\": \"lect_vectors\",\n      \"properties\": {\n        \"dtype\": \"object\",\n        \"semantic_type\": \"\",\n        \"description\": \"\"\n      }\n    },\n    {\n      \"column\": \"lect_info\",\n      \"properties\": {\n        \"dtype\": \"number\",\n        \"std\": 0.0363126265616976,\n        \"min\": 4.500708254265014,\n        \"max\": 4.565759466841223,\n        \"num_unique_values\": 3,\n        \"samples\": [\n          4.505268250418499,\n          4.565759466841223,\n          4.500708254265014\n        ],\n        \"semantic_type\": \"\",\n        \"description\": \"\"\n      }\n    }\n  ]\n}"
            }
          },
          "metadata": {},
          "execution_count": 24
        }
      ]
    },
    {
      "cell_type": "markdown",
      "source": [
        "# Metrics"
      ],
      "metadata": {
        "id": "4f2Cvp07CCry"
      }
    },
    {
      "cell_type": "markdown",
      "source": [
        "First step is to introduce a measure for hybridisation.\n",
        "\n",
        "One possible measure is scoring Euclidean distance between sum of letter vectors for each n-gram. This results in a loss of order within n-gram, which can yield possible disadvantages (bra === bar), when the measure is used alone; however, when joined with DistRank and Jaro distance, hopefully they yield better results.\n",
        "\n",
        "Optional normalisation includes using alphabet information difference, calculated via subtraction of the second alphabet information from the first one. This allows to compensate for the cases, when letter from one alphabet may have multiple correspondences in the other, depending on the context. Direct (and not reversed, `1 - X`) measure is better, because the more information one alphabet carries, when contrasted to the other, the more possible one-to-many correspondences there are, the more distortions in vectors there are, the more normalisation is needed.\n",
        "\n",
        "Final normalisation includes traditional split by maximal length of two strings, introduced in Holman et al. (2008)."
      ],
      "metadata": {
        "id": "tE9YpEaxM0TV"
      }
    },
    {
      "cell_type": "code",
      "source": [
        "from corpus_distance.distance_measurement.string_similarity import *\n",
        "from corpus_distance.distance_measurement.hybridisation import HybridisationParameters"
      ],
      "metadata": {
        "id": "CxS7yw4avQkI"
      },
      "execution_count": 25,
      "outputs": []
    },
    {
      "cell_type": "code",
      "source": [
        "# assigning global values\n",
        "# group of languages  and its outgroup\n",
        "GROUP = \"East Slavic\"\n",
        "OUTGROUP = \"Zialionka\"\n",
        "\n",
        "# if hybrid metrics aids DistRank\n",
        "HYBRIDISATION = True\n",
        "# if hybrid values join DistRank values in a single array, or they both are\n",
        "# independent values, equally contributing to the final metric\n",
        "HYBRIDISATION_AS_ARRAY = False\n",
        "\n",
        "# if distrank normalisation includes soerensen coefficient\n",
        "SOERENSEN_NORMALISATION = True\n",
        "\n",
        "# choose a metric for hybridisation\n",
        "HYBRID = jaro_vector_wrapper\n",
        "\n",
        "# if string similarity measure includes correction by\n",
        "# difference in the information that alphabets carry\n",
        "ALPHABET_NORMALISATION = True\n",
        "\n",
        "# metric description\n",
        "METRICS = f\"{GROUP}-{SPLIT}-{TOPIC_NORMALISATION}-DistRank-{SOERENSEN_NORMALISATION}-{HYBRIDISATION}-{HYBRIDISATION_AS_ARRAY}-{HYBRID.__name__}-{ALPHABET_NORMALISATION}\""
      ],
      "metadata": {
        "id": "NrFVaCdmvH7M"
      },
      "execution_count": 26,
      "outputs": []
    },
    {
      "cell_type": "code",
      "source": [
        "hybridisation_parameters = HybridisationParameters(HYBRIDISATION, SOERENSEN_NORMALISATION, HYBRIDISATION_AS_ARRAY, HYBRID, ALPHABET_NORMALISATION)"
      ],
      "metadata": {
        "id": "DsK5tj2ewfgL"
      },
      "execution_count": 27,
      "outputs": []
    },
    {
      "cell_type": "code",
      "source": [
        "METRICS"
      ],
      "metadata": {
        "colab": {
          "base_uri": "https://localhost:8080/",
          "height": 35
        },
        "id": "EJY_Rn-DiLTz",
        "outputId": "8a1a9fa1-4838-433d-cccd-96b01540b9d5"
      },
      "execution_count": 28,
      "outputs": [
        {
          "output_type": "execute_result",
          "data": {
            "text/plain": [
              "'East Slavic-1-True-DistRank-True-True-False-jaro_vector_wrapper-True'"
            ],
            "application/vnd.google.colaboratory.intrinsic+json": {
              "type": "string"
            }
          },
          "metadata": {},
          "execution_count": 28
        }
      ]
    },
    {
      "cell_type": "code",
      "source": [
        "from corpus_distance.distance_measurement.metrics_pipeline import score_metrics_for_corpus_dataset"
      ],
      "metadata": {
        "id": "0bdWdnbAv1gE"
      },
      "execution_count": 29,
      "outputs": []
    },
    {
      "cell_type": "code",
      "source": [
        "# declare arrays\n",
        "# calculate distances for each pair of lects\n",
        "overall_results = score_metrics_for_corpus_dataset(df_new, \"/content\", METRICS, hybridisation_parameters)"
      ],
      "metadata": {
        "id": "5xOwwG54CEJD",
        "colab": {
          "base_uri": "https://localhost:8080/"
        },
        "outputId": "ddfabedf-72ab-4a34-8919-1bf65bf3539f"
      },
      "execution_count": 30,
      "outputs": [
        {
          "output_type": "stream",
          "name": "stderr",
          "text": [
            "100%|██████████| 1077/1077 [00:01<00:00, 930.45it/s] \n",
            "100%|██████████| 632/632 [00:33<00:00, 18.95it/s]\n",
            "100%|██████████| 579/579 [00:36<00:00, 16.07it/s]\n",
            "100%|██████████| 1077/1077 [00:00<00:00, 1602.41it/s]\n",
            "100%|██████████| 650/650 [00:37<00:00, 17.43it/s]\n",
            "100%|██████████| 585/585 [00:38<00:00, 15.36it/s]\n",
            "100%|██████████| 1024/1024 [00:00<00:00, 1572.41it/s]\n",
            "100%|██████████| 636/636 [00:42<00:00, 15.01it/s]\n",
            "100%|██████████| 624/624 [00:40<00:00, 15.39it/s]\n"
          ]
        }
      ]
    },
    {
      "cell_type": "markdown",
      "source": [
        "# Clusterisation"
      ],
      "metadata": {
        "id": "RkJIqBNM0tUt"
      }
    },
    {
      "cell_type": "markdown",
      "source": [
        "The final step is to cluster the lects into groups, and to decide, whether the method works correctly."
      ],
      "metadata": {
        "id": "FX8ByiTMiQiE"
      }
    },
    {
      "cell_type": "code",
      "source": [
        "from corpus_distance.clusterisation.clusterisation import ClusterisationParameters, clusterise_lects_from_distance_matrix\n",
        "from Bio.Phylo.TreeConstruction import DistanceTreeConstructor"
      ],
      "metadata": {
        "id": "OsBu1_Og0wD9"
      },
      "execution_count": 31,
      "outputs": []
    },
    {
      "cell_type": "code",
      "source": [
        "cluster_params = ClusterisationParameters(lects, OUTGROUP, GROUP, METRICS, DistanceTreeConstructor().upgma, \"/content\")"
      ],
      "metadata": {
        "id": "m6v_o5hq1LYS"
      },
      "execution_count": 32,
      "outputs": []
    },
    {
      "cell_type": "code",
      "source": [
        "clusterise_lects_from_distance_matrix(overall_results, cluster_params)"
      ],
      "metadata": {
        "id": "5-EL_T3Q7Dwt"
      },
      "execution_count": 33,
      "outputs": []
    }
  ]
}